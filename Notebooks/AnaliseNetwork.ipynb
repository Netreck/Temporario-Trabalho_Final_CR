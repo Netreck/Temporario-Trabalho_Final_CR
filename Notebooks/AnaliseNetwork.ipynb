{
 "cells": [
  {
   "cell_type": "code",
   "execution_count": 1,
   "metadata": {},
   "outputs": [
    {
     "name": "stdout",
     "output_type": "stream",
     "text": [
      "Requirement already satisfied: pyvis in c:\\users\\t-gamer\\appdata\\local\\packages\\pythonsoftwarefoundation.python.3.9_qbz5n2kfra8p0\\localcache\\local-packages\\python39\\site-packages (0.3.2)\n",
      "Requirement already satisfied: jsonpickle>=1.4.1 in c:\\users\\t-gamer\\appdata\\local\\packages\\pythonsoftwarefoundation.python.3.9_qbz5n2kfra8p0\\localcache\\local-packages\\python39\\site-packages (from pyvis) (3.2.2)\n",
      "Requirement already satisfied: jinja2>=2.9.6 in c:\\users\\t-gamer\\appdata\\local\\packages\\pythonsoftwarefoundation.python.3.9_qbz5n2kfra8p0\\localcache\\local-packages\\python39\\site-packages (from pyvis) (3.1.3)\n",
      "Requirement already satisfied: networkx>=1.11 in c:\\users\\t-gamer\\appdata\\local\\packages\\pythonsoftwarefoundation.python.3.9_qbz5n2kfra8p0\\localcache\\local-packages\\python39\\site-packages (from pyvis) (3.2.1)\n",
      "Requirement already satisfied: ipython>=5.3.0 in c:\\users\\t-gamer\\appdata\\local\\packages\\pythonsoftwarefoundation.python.3.9_qbz5n2kfra8p0\\localcache\\local-packages\\python39\\site-packages (from pyvis) (8.18.1)\n",
      "Requirement already satisfied: prompt-toolkit<3.1.0,>=3.0.41 in c:\\users\\t-gamer\\appdata\\local\\packages\\pythonsoftwarefoundation.python.3.9_qbz5n2kfra8p0\\localcache\\local-packages\\python39\\site-packages (from ipython>=5.3.0->pyvis) (3.0.43)\n",
      "Requirement already satisfied: pygments>=2.4.0 in c:\\users\\t-gamer\\appdata\\local\\packages\\pythonsoftwarefoundation.python.3.9_qbz5n2kfra8p0\\localcache\\local-packages\\python39\\site-packages (from ipython>=5.3.0->pyvis) (2.17.2)\n",
      "Requirement already satisfied: exceptiongroup in c:\\users\\t-gamer\\appdata\\local\\packages\\pythonsoftwarefoundation.python.3.9_qbz5n2kfra8p0\\localcache\\local-packages\\python39\\site-packages (from ipython>=5.3.0->pyvis) (1.1.3)\n",
      "Requirement already satisfied: traitlets>=5 in c:\\users\\t-gamer\\appdata\\local\\packages\\pythonsoftwarefoundation.python.3.9_qbz5n2kfra8p0\\localcache\\local-packages\\python39\\site-packages (from ipython>=5.3.0->pyvis) (5.14.1)\n",
      "Requirement already satisfied: jedi>=0.16 in c:\\users\\t-gamer\\appdata\\local\\packages\\pythonsoftwarefoundation.python.3.9_qbz5n2kfra8p0\\localcache\\local-packages\\python39\\site-packages (from ipython>=5.3.0->pyvis) (0.19.1)\n",
      "Requirement already satisfied: typing-extensions in c:\\users\\t-gamer\\appdata\\local\\packages\\pythonsoftwarefoundation.python.3.9_qbz5n2kfra8p0\\localcache\\local-packages\\python39\\site-packages (from ipython>=5.3.0->pyvis) (4.9.0)\n",
      "Requirement already satisfied: colorama in c:\\users\\t-gamer\\appdata\\local\\packages\\pythonsoftwarefoundation.python.3.9_qbz5n2kfra8p0\\localcache\\local-packages\\python39\\site-packages (from ipython>=5.3.0->pyvis) (0.4.6)\n",
      "Requirement already satisfied: decorator in c:\\users\\t-gamer\\appdata\\local\\packages\\pythonsoftwarefoundation.python.3.9_qbz5n2kfra8p0\\localcache\\local-packages\\python39\\site-packages (from ipython>=5.3.0->pyvis) (5.1.1)\n",
      "Requirement already satisfied: matplotlib-inline in c:\\users\\t-gamer\\appdata\\local\\packages\\pythonsoftwarefoundation.python.3.9_qbz5n2kfra8p0\\localcache\\local-packages\\python39\\site-packages (from ipython>=5.3.0->pyvis) (0.1.6)\n",
      "Requirement already satisfied: stack-data in c:\\users\\t-gamer\\appdata\\local\\packages\\pythonsoftwarefoundation.python.3.9_qbz5n2kfra8p0\\localcache\\local-packages\\python39\\site-packages (from ipython>=5.3.0->pyvis) (0.6.3)\n",
      "Requirement already satisfied: MarkupSafe>=2.0 in c:\\users\\t-gamer\\appdata\\local\\packages\\pythonsoftwarefoundation.python.3.9_qbz5n2kfra8p0\\localcache\\local-packages\\python39\\site-packages (from jinja2>=2.9.6->pyvis) (2.1.5)\n",
      "Requirement already satisfied: parso<0.9.0,>=0.8.3 in c:\\users\\t-gamer\\appdata\\local\\packages\\pythonsoftwarefoundation.python.3.9_qbz5n2kfra8p0\\localcache\\local-packages\\python39\\site-packages (from jedi>=0.16->ipython>=5.3.0->pyvis) (0.8.3)\n",
      "Requirement already satisfied: wcwidth in c:\\users\\t-gamer\\appdata\\local\\packages\\pythonsoftwarefoundation.python.3.9_qbz5n2kfra8p0\\localcache\\local-packages\\python39\\site-packages (from prompt-toolkit<3.1.0,>=3.0.41->ipython>=5.3.0->pyvis) (0.2.13)\n",
      "Requirement already satisfied: asttokens>=2.1.0 in c:\\users\\t-gamer\\appdata\\local\\packages\\pythonsoftwarefoundation.python.3.9_qbz5n2kfra8p0\\localcache\\local-packages\\python39\\site-packages (from stack-data->ipython>=5.3.0->pyvis) (2.4.1)\n",
      "Requirement already satisfied: executing>=1.2.0 in c:\\users\\t-gamer\\appdata\\local\\packages\\pythonsoftwarefoundation.python.3.9_qbz5n2kfra8p0\\localcache\\local-packages\\python39\\site-packages (from stack-data->ipython>=5.3.0->pyvis) (2.0.1)\n",
      "Requirement already satisfied: pure-eval in c:\\users\\t-gamer\\appdata\\local\\packages\\pythonsoftwarefoundation.python.3.9_qbz5n2kfra8p0\\localcache\\local-packages\\python39\\site-packages (from stack-data->ipython>=5.3.0->pyvis) (0.2.2)\n",
      "Requirement already satisfied: six>=1.12.0 in c:\\users\\t-gamer\\appdata\\local\\packages\\pythonsoftwarefoundation.python.3.9_qbz5n2kfra8p0\\localcache\\local-packages\\python39\\site-packages (from asttokens>=2.1.0->stack-data->ipython>=5.3.0->pyvis) (1.16.0)\n",
      "Note: you may need to restart the kernel to use updated packages.\n"
     ]
    },
    {
     "name": "stderr",
     "output_type": "stream",
     "text": [
      "WARNING: You are using pip version 22.0.4; however, version 24.2 is available.\n",
      "You should consider upgrading via the 'C:\\Users\\T-GAMER\\AppData\\Local\\Microsoft\\WindowsApps\\PythonSoftwareFoundation.Python.3.9_qbz5n2kfra8p0\\python.exe -m pip install --upgrade pip' command.\n"
     ]
    }
   ],
   "source": [
    "pip install pyvis"
   ]
  },
  {
   "cell_type": "code",
   "execution_count": 2,
   "metadata": {},
   "outputs": [
    {
     "name": "stdout",
     "output_type": "stream",
     "text": [
      "Requirement already satisfied: python-louvain in c:\\users\\t-gamer\\appdata\\local\\packages\\pythonsoftwarefoundation.python.3.9_qbz5n2kfra8p0\\localcache\\local-packages\\python39\\site-packages (0.16)\n",
      "Requirement already satisfied: numpy in c:\\users\\t-gamer\\appdata\\local\\packages\\pythonsoftwarefoundation.python.3.9_qbz5n2kfra8p0\\localcache\\local-packages\\python39\\site-packages (from python-louvain) (1.23.5)\n",
      "Requirement already satisfied: networkx in c:\\users\\t-gamer\\appdata\\local\\packages\\pythonsoftwarefoundation.python.3.9_qbz5n2kfra8p0\\localcache\\local-packages\\python39\\site-packages (from python-louvain) (3.2.1)\n",
      "Note: you may need to restart the kernel to use updated packages.\n"
     ]
    },
    {
     "name": "stderr",
     "output_type": "stream",
     "text": [
      "WARNING: You are using pip version 22.0.4; however, version 24.2 is available.\n",
      "You should consider upgrading via the 'C:\\Users\\T-GAMER\\AppData\\Local\\Microsoft\\WindowsApps\\PythonSoftwareFoundation.Python.3.9_qbz5n2kfra8p0\\python.exe -m pip install --upgrade pip' command.\n"
     ]
    }
   ],
   "source": [
    "pip install python-louvain"
   ]
  },
  {
   "cell_type": "code",
   "execution_count": 3,
   "metadata": {},
   "outputs": [],
   "source": [
    "import pandas as pd\n",
    "import numpy as np\n",
    "from pyvis.network import Network\n",
    "import networkx as nx\n",
    "import community\n",
    "import matplotlib.pyplot as plt"
   ]
  },
  {
   "cell_type": "code",
   "execution_count": 4,
   "metadata": {},
   "outputs": [],
   "source": [
    "Grafo_1 = pd.read_csv('../Data/relationship_percy_1')\n",
    "Grafo_2 = pd.read_csv('../Data/relationship_percy_2')\n",
    "Grafo_3 = pd.read_csv('../Data/relationship_percy_3')\n",
    "Grafo_4 = pd.read_csv('../Data/relationship_percy_4')\n",
    "Grafo_5 = pd.read_csv('../Data/relationship_percy_5')\n",
    "Grafo_6 = pd.read_csv('../Data/relationship_percy_6')\n",
    "Grafo_7 = pd.read_csv('../Data/relationship_percy_7')\n",
    "Grafo_8 = pd.read_csv('../Data/relationship_percy_8')\n",
    "Grafo_9 = pd.read_csv('../Data/relationship_percy_9')\n",
    "Grafo_10 = pd.read_csv('../Data/relationship_percy_10')"
   ]
  },
  {
   "cell_type": "markdown",
   "metadata": {},
   "source": [
    "# GRAFO EM HTML"
   ]
  },
  {
   "cell_type": "code",
   "execution_count": 5,
   "metadata": {},
   "outputs": [
    {
     "name": "stdout",
     "output_type": "stream",
     "text": [
      "Warning: When  cdn_resources is 'local' jupyter notebook has issues displaying graphics on chrome/safari. Use cdn_resources='in_line' or cdn_resources='remote' if you have issues viewing graphics in a notebook.\n",
      "Percy_Grafo_1.html\n"
     ]
    },
    {
     "data": {
      "text/html": [
       "\n",
       "        <iframe\n",
       "            width=\"1000px\"\n",
       "            height=\"1000px\"\n",
       "            src=\"Percy_Grafo_1.html\"\n",
       "            frameborder=\"0\"\n",
       "            allowfullscreen\n",
       "            \n",
       "        ></iframe>\n",
       "        "
      ],
      "text/plain": [
       "<IPython.lib.display.IFrame at 0x1b27b515b20>"
      ]
     },
     "execution_count": 5,
     "metadata": {},
     "output_type": "execute_result"
    }
   ],
   "source": [
    "# 1. Create a graph from a pandas dataframe\n",
    "G_1 = nx.from_pandas_edgelist(Grafo_1,\n",
    "                            source = \"Source\",\n",
    "                            target = \"Target\",\n",
    "                            edge_attr = \"Weight\",\n",
    "                            create_using = nx.Graph())\n",
    "\n",
    "# 2. Louvain Algorithm \n",
    "communities = list(nx.algorithms.community.louvain_communities(G_1))\n",
    "\n",
    "# Convert communities from sets to lists\n",
    "communities_dict = {}\n",
    "for i, community in enumerate(communities):\n",
    "    for node in community:\n",
    "        communities_dict[node] = i\n",
    "\n",
    "# 3. Calculate size of each node using Weight\n",
    "node_degree = dict(G_1.degree)\n",
    "\n",
    "# 4. Set up node attributes\n",
    "nx.set_node_attributes(G_1, node_degree, 'size') # Size for each node\n",
    "nx.set_node_attributes(G_1, communities_dict, 'group') # Group the nodes to be communitites\n",
    "\n",
    "# 5. Build Interactive Network using Pyvis\n",
    "net = Network(notebook=True, width=\"1000px\", height=\"1000px\", bgcolor='#222222', font_color='White')\n",
    "# Set layout to spring\n",
    "net.barnes_hut(gravity=-2000, central_gravity=0.3, spring_length=100, spring_strength=0.01)\n",
    "\n",
    "# 6. Display the Network\n",
    "net.from_nx(G_1)\n",
    "net.show(\"Percy_Grafo_1.html\")"
   ]
  },
  {
   "cell_type": "code",
   "execution_count": 6,
   "metadata": {},
   "outputs": [
    {
     "name": "stdout",
     "output_type": "stream",
     "text": [
      "Warning: When  cdn_resources is 'local' jupyter notebook has issues displaying graphics on chrome/safari. Use cdn_resources='in_line' or cdn_resources='remote' if you have issues viewing graphics in a notebook.\n",
      "Percy_Grafo_2.html\n"
     ]
    },
    {
     "data": {
      "text/html": [
       "\n",
       "        <iframe\n",
       "            width=\"1000px\"\n",
       "            height=\"1000px\"\n",
       "            src=\"Percy_Grafo_2.html\"\n",
       "            frameborder=\"0\"\n",
       "            allowfullscreen\n",
       "            \n",
       "        ></iframe>\n",
       "        "
      ],
      "text/plain": [
       "<IPython.lib.display.IFrame at 0x1b27b550e80>"
      ]
     },
     "execution_count": 6,
     "metadata": {},
     "output_type": "execute_result"
    }
   ],
   "source": [
    "# 1. Create a graph from a pandas dataframe\n",
    "G_2 = nx.from_pandas_edgelist(Grafo_2,\n",
    "                            source = \"Source\",\n",
    "                            target = \"Target\",\n",
    "                            edge_attr = \"Weight\",\n",
    "                            create_using = nx.Graph())\n",
    "\n",
    "# 2. Louvain Algorithm \n",
    "communities = list(nx.algorithms.community.louvain_communities(G_2))\n",
    "\n",
    "# Convert communities from sets to lists\n",
    "communities_dict = {}\n",
    "for i, community in enumerate(communities):\n",
    "    for node in community:\n",
    "        communities_dict[node] = i\n",
    "\n",
    "# 3. Calculate size of each node using Weight\n",
    "node_degree = dict(G_2.degree)\n",
    "\n",
    "# 4. Set up node attributes\n",
    "nx.set_node_attributes(G_2, node_degree, 'size') # Size for each node\n",
    "nx.set_node_attributes(G_2, communities_dict, 'group') # Group the nodes to be communitites\n",
    "\n",
    "# 5. Build Interactive Network using Pyvis\n",
    "net = Network(notebook=True, width=\"1000px\", height=\"1000px\", bgcolor='#222222', font_color='White')\n",
    "# Set layout to spring\n",
    "net.barnes_hut(gravity=-2000, central_gravity=0.3, spring_length=100, spring_strength=0.01)\n",
    "\n",
    "# 6. Display the Network\n",
    "net.from_nx(G_2)\n",
    "net.show(\"Percy_Grafo_2.html\")"
   ]
  },
  {
   "cell_type": "code",
   "execution_count": 7,
   "metadata": {},
   "outputs": [
    {
     "name": "stdout",
     "output_type": "stream",
     "text": [
      "Warning: When  cdn_resources is 'local' jupyter notebook has issues displaying graphics on chrome/safari. Use cdn_resources='in_line' or cdn_resources='remote' if you have issues viewing graphics in a notebook.\n",
      "Percy_Grafo_3.html\n"
     ]
    },
    {
     "data": {
      "text/html": [
       "\n",
       "        <iframe\n",
       "            width=\"1000px\"\n",
       "            height=\"1000px\"\n",
       "            src=\"Percy_Grafo_3.html\"\n",
       "            frameborder=\"0\"\n",
       "            allowfullscreen\n",
       "            \n",
       "        ></iframe>\n",
       "        "
      ],
      "text/plain": [
       "<IPython.lib.display.IFrame at 0x1b27b5747c0>"
      ]
     },
     "execution_count": 7,
     "metadata": {},
     "output_type": "execute_result"
    }
   ],
   "source": [
    "# 1. Create a graph from a pandas dataframe\n",
    "G_3 = nx.from_pandas_edgelist(Grafo_3,\n",
    "                            source = \"Source\",\n",
    "                            target = \"Target\",\n",
    "                            edge_attr = \"Weight\",\n",
    "                            create_using = nx.Graph())\n",
    "\n",
    "# 2. Louvain Algorithm \n",
    "communities = list(nx.algorithms.community.louvain_communities(G_3))\n",
    "\n",
    "# Convert communities from sets to lists\n",
    "communities_dict = {}\n",
    "for i, community in enumerate(communities):\n",
    "    for node in community:\n",
    "        communities_dict[node] = i\n",
    "\n",
    "# 3. Calculate size of each node using Weight\n",
    "node_degree = dict(G_3.degree)\n",
    "\n",
    "# 4. Set up node attributes\n",
    "nx.set_node_attributes(G_3, node_degree, 'size') # Size for each node\n",
    "nx.set_node_attributes(G_3, communities_dict, 'group') # Group the nodes to be communitites\n",
    "\n",
    "# 5. Build Interactive Network using Pyvis\n",
    "net = Network(notebook=True, width=\"1000px\", height=\"1000px\", bgcolor='#222222', font_color='White')\n",
    "# Set layout to spring\n",
    "net.barnes_hut(gravity=-2000, central_gravity=0.3, spring_length=100, spring_strength=0.01)\n",
    "\n",
    "# 6. Display the Network\n",
    "net.from_nx(G_3)\n",
    "net.show(\"Percy_Grafo_3.html\")"
   ]
  },
  {
   "cell_type": "code",
   "execution_count": 8,
   "metadata": {},
   "outputs": [
    {
     "name": "stdout",
     "output_type": "stream",
     "text": [
      "Warning: When  cdn_resources is 'local' jupyter notebook has issues displaying graphics on chrome/safari. Use cdn_resources='in_line' or cdn_resources='remote' if you have issues viewing graphics in a notebook.\n",
      "Percy_Grafo_4.html\n"
     ]
    },
    {
     "data": {
      "text/html": [
       "\n",
       "        <iframe\n",
       "            width=\"1000px\"\n",
       "            height=\"1000px\"\n",
       "            src=\"Percy_Grafo_4.html\"\n",
       "            frameborder=\"0\"\n",
       "            allowfullscreen\n",
       "            \n",
       "        ></iframe>\n",
       "        "
      ],
      "text/plain": [
       "<IPython.lib.display.IFrame at 0x1b259a75400>"
      ]
     },
     "execution_count": 8,
     "metadata": {},
     "output_type": "execute_result"
    }
   ],
   "source": [
    "# 1. Create a graph from a pandas dataframe\n",
    "G_4 = nx.from_pandas_edgelist(Grafo_4,\n",
    "                            source = \"Source\",\n",
    "                            target = \"Target\",\n",
    "                            edge_attr = \"Weight\",\n",
    "                            create_using = nx.Graph())\n",
    "\n",
    "# 2. Louvain Algorithm \n",
    "communities = list(nx.algorithms.community.louvain_communities(G_4))\n",
    "\n",
    "# Convert communities from sets to lists\n",
    "communities_dict = {}\n",
    "for i, community in enumerate(communities):\n",
    "    for node in community:\n",
    "        communities_dict[node] = i\n",
    "\n",
    "# 3. Calculate size of each node using Weight\n",
    "node_degree = dict(G_4.degree)\n",
    "\n",
    "# 4. Set up node attributes\n",
    "nx.set_node_attributes(G_4, node_degree, 'size') # Size for each node\n",
    "nx.set_node_attributes(G_4, communities_dict, 'group') # Group the nodes to be communitites\n",
    "\n",
    "# 5. Build Interactive Network using Pyvis\n",
    "net = Network(notebook=True, width=\"1000px\", height=\"1000px\", bgcolor='#222222', font_color='White')\n",
    "# Set layout to spring\n",
    "net.barnes_hut(gravity=-2000, central_gravity=0.3, spring_length=100, spring_strength=0.01)\n",
    "\n",
    "# 6. Display the Network\n",
    "net.from_nx(G_4)\n",
    "net.show(\"Percy_Grafo_4.html\")"
   ]
  },
  {
   "cell_type": "code",
   "execution_count": 9,
   "metadata": {},
   "outputs": [
    {
     "name": "stdout",
     "output_type": "stream",
     "text": [
      "Warning: When  cdn_resources is 'local' jupyter notebook has issues displaying graphics on chrome/safari. Use cdn_resources='in_line' or cdn_resources='remote' if you have issues viewing graphics in a notebook.\n",
      "Percy_Grafo_5.html\n"
     ]
    },
    {
     "data": {
      "text/html": [
       "\n",
       "        <iframe\n",
       "            width=\"1000px\"\n",
       "            height=\"1000px\"\n",
       "            src=\"Percy_Grafo_5.html\"\n",
       "            frameborder=\"0\"\n",
       "            allowfullscreen\n",
       "            \n",
       "        ></iframe>\n",
       "        "
      ],
      "text/plain": [
       "<IPython.lib.display.IFrame at 0x1b27b4f4940>"
      ]
     },
     "execution_count": 9,
     "metadata": {},
     "output_type": "execute_result"
    }
   ],
   "source": [
    "# 1. Create a graph from a pandas dataframe\n",
    "G_5 = nx.from_pandas_edgelist(Grafo_5,\n",
    "                            source = \"Source\",\n",
    "                            target = \"Target\",\n",
    "                            edge_attr = \"Weight\",\n",
    "                            create_using = nx.Graph())\n",
    "\n",
    "# 2. Louvain Algorithm \n",
    "communities = list(nx.algorithms.community.louvain_communities(G_5))\n",
    "\n",
    "# Convert communities from sets to lists\n",
    "communities_dict = {}\n",
    "for i, community in enumerate(communities):\n",
    "    for node in community:\n",
    "        communities_dict[node] = i\n",
    "\n",
    "# 3. Calculate size of each node using Weight\n",
    "node_degree = dict(G_5.degree)\n",
    "\n",
    "# 4. Set up node attributes\n",
    "nx.set_node_attributes(G_5, node_degree, 'size') # Size for each node\n",
    "nx.set_node_attributes(G_5, communities_dict, 'group') # Group the nodes to be communitites\n",
    "\n",
    "# 5. Build Interactive Network using Pyvis\n",
    "net = Network(notebook=True, width=\"1000px\", height=\"1000px\", bgcolor='#222222', font_color='White')\n",
    "# Set layout to spring\n",
    "net.barnes_hut(gravity=-2000, central_gravity=0.3, spring_length=100, spring_strength=0.01)\n",
    "\n",
    "# 6. Display the Network\n",
    "net.from_nx(G_5)\n",
    "net.show(\"Percy_Grafo_5.html\")"
   ]
  },
  {
   "cell_type": "code",
   "execution_count": 10,
   "metadata": {},
   "outputs": [
    {
     "name": "stdout",
     "output_type": "stream",
     "text": [
      "Warning: When  cdn_resources is 'local' jupyter notebook has issues displaying graphics on chrome/safari. Use cdn_resources='in_line' or cdn_resources='remote' if you have issues viewing graphics in a notebook.\n",
      "Percy_Grafo_6.html\n"
     ]
    },
    {
     "data": {
      "text/html": [
       "\n",
       "        <iframe\n",
       "            width=\"1000px\"\n",
       "            height=\"1000px\"\n",
       "            src=\"Percy_Grafo_6.html\"\n",
       "            frameborder=\"0\"\n",
       "            allowfullscreen\n",
       "            \n",
       "        ></iframe>\n",
       "        "
      ],
      "text/plain": [
       "<IPython.lib.display.IFrame at 0x1b27b574850>"
      ]
     },
     "execution_count": 10,
     "metadata": {},
     "output_type": "execute_result"
    }
   ],
   "source": [
    "# 1. Create a graph from a pandas dataframe\n",
    "G_6 = nx.from_pandas_edgelist(Grafo_6,\n",
    "                            source = \"Source\",\n",
    "                            target = \"Target\",\n",
    "                            edge_attr = \"Weight\",\n",
    "                            create_using = nx.Graph())\n",
    "\n",
    "# 2. Louvain Algorithm \n",
    "communities_5 = list(nx.algorithms.community.louvain_communities(G_6))\n",
    "\n",
    "# Convert communities from sets to lists\n",
    "communities_dict = {}\n",
    "for i, community in enumerate(communities_5):\n",
    "    for node in community:\n",
    "        communities_dict[node] = i\n",
    "\n",
    "# 3. Calculate size of each node using Weight\n",
    "node_degree = dict(G_6.degree)\n",
    "\n",
    "# 4. Set up node attributes\n",
    "nx.set_node_attributes(G_6, node_degree, 'size') # Size for each node\n",
    "nx.set_node_attributes(G_6, communities_dict, 'group') # Group the nodes to be communitites\n",
    "\n",
    "# 5. Build Interactive Network using Pyvis\n",
    "net = Network(notebook=True, width=\"1000px\", height=\"1000px\", bgcolor='#222222', font_color='White')\n",
    "# Set layout to spring\n",
    "net.barnes_hut(gravity=-2000, central_gravity=0.3, spring_length=100, spring_strength=0.01)\n",
    "\n",
    "# 6. Display the Network\n",
    "net.from_nx(G_6)\n",
    "net.show(\"Percy_Grafo_6.html\")"
   ]
  },
  {
   "cell_type": "code",
   "execution_count": 11,
   "metadata": {},
   "outputs": [
    {
     "name": "stdout",
     "output_type": "stream",
     "text": [
      "Warning: When  cdn_resources is 'local' jupyter notebook has issues displaying graphics on chrome/safari. Use cdn_resources='in_line' or cdn_resources='remote' if you have issues viewing graphics in a notebook.\n",
      "Percy_Grafo_7.html\n"
     ]
    },
    {
     "data": {
      "text/html": [
       "\n",
       "        <iframe\n",
       "            width=\"1000px\"\n",
       "            height=\"1000px\"\n",
       "            src=\"Percy_Grafo_7.html\"\n",
       "            frameborder=\"0\"\n",
       "            allowfullscreen\n",
       "            \n",
       "        ></iframe>\n",
       "        "
      ],
      "text/plain": [
       "<IPython.lib.display.IFrame at 0x1b27b5e5460>"
      ]
     },
     "execution_count": 11,
     "metadata": {},
     "output_type": "execute_result"
    }
   ],
   "source": [
    "# 1. Create a graph from a pandas dataframe\n",
    "G_7 = nx.from_pandas_edgelist(Grafo_7,\n",
    "                            source = \"Source\",\n",
    "                            target = \"Target\",\n",
    "                            edge_attr = \"Weight\",\n",
    "                            create_using = nx.Graph())\n",
    "\n",
    "# 2. Louvain Algorithm \n",
    "communities_5 = list(nx.algorithms.community.louvain_communities(G_7))\n",
    "\n",
    "# Convert communities from sets to lists\n",
    "communities_dict = {}\n",
    "for i, community in enumerate(communities_5):\n",
    "    for node in community:\n",
    "        communities_dict[node] = i\n",
    "\n",
    "# 3. Calculate size of each node using Weight\n",
    "node_degree = dict(G_7.degree)\n",
    "\n",
    "# 4. Set up node attributes\n",
    "nx.set_node_attributes(G_7, node_degree, 'size') # Size for each node\n",
    "nx.set_node_attributes(G_7, communities_dict, 'group') # Group the nodes to be communitites\n",
    "\n",
    "# 5. Build Interactive Network using Pyvis\n",
    "net = Network(notebook=True, width=\"1000px\", height=\"1000px\", bgcolor='#222222', font_color='White')\n",
    "# Set layout to spring\n",
    "net.barnes_hut(gravity=-2000, central_gravity=0.3, spring_length=100, spring_strength=0.01)\n",
    "\n",
    "# 6. Display the Network\n",
    "net.from_nx(G_7)\n",
    "net.show(\"Percy_Grafo_7.html\")"
   ]
  },
  {
   "cell_type": "code",
   "execution_count": 12,
   "metadata": {},
   "outputs": [
    {
     "name": "stdout",
     "output_type": "stream",
     "text": [
      "Warning: When  cdn_resources is 'local' jupyter notebook has issues displaying graphics on chrome/safari. Use cdn_resources='in_line' or cdn_resources='remote' if you have issues viewing graphics in a notebook.\n",
      "Percy_Grafo_8.html\n"
     ]
    },
    {
     "data": {
      "text/html": [
       "\n",
       "        <iframe\n",
       "            width=\"1000px\"\n",
       "            height=\"1000px\"\n",
       "            src=\"Percy_Grafo_8.html\"\n",
       "            frameborder=\"0\"\n",
       "            allowfullscreen\n",
       "            \n",
       "        ></iframe>\n",
       "        "
      ],
      "text/plain": [
       "<IPython.lib.display.IFrame at 0x1b27b5f9280>"
      ]
     },
     "execution_count": 12,
     "metadata": {},
     "output_type": "execute_result"
    }
   ],
   "source": [
    "# 1. Create a graph from a pandas dataframe\n",
    "G_8 = nx.from_pandas_edgelist(Grafo_8,\n",
    "                            source = \"Source\",\n",
    "                            target = \"Target\",\n",
    "                            edge_attr = \"Weight\",\n",
    "                            create_using = nx.Graph())\n",
    "\n",
    "# 2. Louvain Algorithm \n",
    "communities_5 = list(nx.algorithms.community.louvain_communities(G_8))\n",
    "\n",
    "# Convert communities from sets to lists\n",
    "communities_dict = {}\n",
    "for i, community in enumerate(communities_5):\n",
    "    for node in community:\n",
    "        communities_dict[node] = i\n",
    "\n",
    "# 3. Calculate size of each node using Weight\n",
    "node_degree = dict(G_8.degree)\n",
    "\n",
    "# 4. Set up node attributes\n",
    "nx.set_node_attributes(G_8, node_degree, 'size') # Size for each node\n",
    "nx.set_node_attributes(G_8, communities_dict, 'group') # Group the nodes to be communitites\n",
    "\n",
    "# 5. Build Interactive Network using Pyvis\n",
    "net = Network(notebook=True, width=\"1000px\", height=\"1000px\", bgcolor='#222222', font_color='White')\n",
    "# Set layout to spring\n",
    "net.barnes_hut(gravity=-2000, central_gravity=0.3, spring_length=100, spring_strength=0.01)\n",
    "\n",
    "# 6. Display the Network\n",
    "net.from_nx(G_8)\n",
    "net.show(\"Percy_Grafo_8.html\")"
   ]
  },
  {
   "cell_type": "code",
   "execution_count": 13,
   "metadata": {},
   "outputs": [
    {
     "name": "stdout",
     "output_type": "stream",
     "text": [
      "Warning: When  cdn_resources is 'local' jupyter notebook has issues displaying graphics on chrome/safari. Use cdn_resources='in_line' or cdn_resources='remote' if you have issues viewing graphics in a notebook.\n",
      "Percy_Grafo_9.html\n"
     ]
    },
    {
     "data": {
      "text/html": [
       "\n",
       "        <iframe\n",
       "            width=\"1000px\"\n",
       "            height=\"1000px\"\n",
       "            src=\"Percy_Grafo_9.html\"\n",
       "            frameborder=\"0\"\n",
       "            allowfullscreen\n",
       "            \n",
       "        ></iframe>\n",
       "        "
      ],
      "text/plain": [
       "<IPython.lib.display.IFrame at 0x1b27b515820>"
      ]
     },
     "execution_count": 13,
     "metadata": {},
     "output_type": "execute_result"
    }
   ],
   "source": [
    "# 1. Create a graph from a pandas dataframe\n",
    "G_9 = nx.from_pandas_edgelist(Grafo_9,\n",
    "                            source = \"Source\",\n",
    "                            target = \"Target\",\n",
    "                            edge_attr = \"Weight\",\n",
    "                            create_using = nx.Graph())\n",
    "\n",
    "# 2. Louvain Algorithm \n",
    "communities_5 = list(nx.algorithms.community.louvain_communities(G_9))\n",
    "\n",
    "# Convert communities from sets to lists\n",
    "communities_dict = {}\n",
    "for i, community in enumerate(communities_5):\n",
    "    for node in community:\n",
    "        communities_dict[node] = i\n",
    "\n",
    "# 3. Calculate size of each node using Weight\n",
    "node_degree = dict(G_9.degree)\n",
    "\n",
    "# 4. Set up node attributes\n",
    "nx.set_node_attributes(G_9, node_degree, 'size') # Size for each node\n",
    "nx.set_node_attributes(G_9, communities_dict, 'group') # Group the nodes to be communitites\n",
    "\n",
    "# 5. Build Interactive Network using Pyvis\n",
    "net = Network(notebook=True, width=\"1000px\", height=\"1000px\", bgcolor='#222222', font_color='White')\n",
    "# Set layout to spring\n",
    "net.barnes_hut(gravity=-2000, central_gravity=0.3, spring_length=100, spring_strength=0.01)\n",
    "\n",
    "# 6. Display the Network\n",
    "net.from_nx(G_9)\n",
    "net.show(\"Percy_Grafo_9.html\")"
   ]
  },
  {
   "cell_type": "code",
   "execution_count": 14,
   "metadata": {},
   "outputs": [
    {
     "name": "stdout",
     "output_type": "stream",
     "text": [
      "Warning: When  cdn_resources is 'local' jupyter notebook has issues displaying graphics on chrome/safari. Use cdn_resources='in_line' or cdn_resources='remote' if you have issues viewing graphics in a notebook."
     ]
    },
    {
     "name": "stdout",
     "output_type": "stream",
     "text": [
      "\n",
      "Percy_Grafo_10.html\n"
     ]
    },
    {
     "data": {
      "text/html": [
       "\n",
       "        <iframe\n",
       "            width=\"1000px\"\n",
       "            height=\"1000px\"\n",
       "            src=\"Percy_Grafo_10.html\"\n",
       "            frameborder=\"0\"\n",
       "            allowfullscreen\n",
       "            \n",
       "        ></iframe>\n",
       "        "
      ],
      "text/plain": [
       "<IPython.lib.display.IFrame at 0x1b27b83eac0>"
      ]
     },
     "execution_count": 14,
     "metadata": {},
     "output_type": "execute_result"
    }
   ],
   "source": [
    "# 1. Create a graph from a pandas dataframe\n",
    "G_10 = nx.from_pandas_edgelist(Grafo_10,\n",
    "                            source = \"Source\",\n",
    "                            target = \"Target\",\n",
    "                            edge_attr = \"Weight\",\n",
    "                            create_using = nx.Graph())\n",
    "\n",
    "# 2. Louvain Algorithm \n",
    "communities_5 = list(nx.algorithms.community.louvain_communities(G_10))\n",
    "\n",
    "# Convert communities from sets to lists\n",
    "communities_dict = {}\n",
    "for i, community in enumerate(communities_5):\n",
    "    for node in community:\n",
    "        communities_dict[node] = i\n",
    "\n",
    "# 3. Calculate size of each node using Weight\n",
    "node_degree = dict(G_10.degree)\n",
    "\n",
    "# 4. Set up node attributes\n",
    "nx.set_node_attributes(G_10, node_degree, 'size') # Size for each node\n",
    "nx.set_node_attributes(G_10, communities_dict, 'group') # Group the nodes to be communitites\n",
    "\n",
    "# 5. Build Interactive Network using Pyvis\n",
    "net = Network(notebook=True, width=\"1000px\", height=\"1000px\", bgcolor='#222222', font_color='White')\n",
    "# Set layout to spring\n",
    "net.barnes_hut(gravity=-2000, central_gravity=0.3, spring_length=100, spring_strength=0.01)\n",
    "\n",
    "# 6. Display the Network\n",
    "net.from_nx(G_10)\n",
    "net.show(\"Percy_Grafo_10.html\")"
   ]
  },
  {
   "cell_type": "code",
   "execution_count": 15,
   "metadata": {},
   "outputs": [],
   "source": [
    "#Junta todos os grafos em 1\n",
    "G_combined = nx.compose_all([G_1,G_2,G_3,G_4,G_5,G_6,G_7,G_8,G_9,G_10])\n"
   ]
  },
  {
   "cell_type": "code",
   "execution_count": 193,
   "metadata": {},
   "outputs": [],
   "source": [
    "nx.write_gml(G_combined, 'grafoPercy.gml')"
   ]
  },
  {
   "cell_type": "code",
   "execution_count": 16,
   "metadata": {},
   "outputs": [
    {
     "name": "stdout",
     "output_type": "stream",
     "text": [
      "Warning: When  cdn_resources is 'local' jupyter notebook has issues displaying graphics on chrome/safari. Use cdn_resources='in_line' or cdn_resources='remote' if you have issues viewing graphics in a notebook.\n",
      "Percy_Grafo_combinado.html\n"
     ]
    },
    {
     "data": {
      "text/html": [
       "\n",
       "        <iframe\n",
       "            width=\"1000px\"\n",
       "            height=\"1000px\"\n",
       "            src=\"Percy_Grafo_combinado.html\"\n",
       "            frameborder=\"0\"\n",
       "            allowfullscreen\n",
       "            \n",
       "        ></iframe>\n",
       "        "
      ],
      "text/plain": [
       "<IPython.lib.display.IFrame at 0x1b27b59f2e0>"
      ]
     },
     "execution_count": 16,
     "metadata": {},
     "output_type": "execute_result"
    }
   ],
   "source": [
    "# 1. Create a graph from a pandas dataframe\n",
    "\n",
    "# 2. Louvain Algorithm \n",
    "communities_5 = list(nx.algorithms.community.louvain_communities(G_combined))\n",
    "\n",
    "# Convert communities from sets to lists\n",
    "communities_dict = {}\n",
    "for i, community in enumerate(communities_5):\n",
    "    for node in community:\n",
    "        communities_dict[node] = i\n",
    "\n",
    "# 3. Calculate size of each node using Weight\n",
    "node_degree = dict(G_combined.degree)\n",
    "\n",
    "# 4. Set up node attributes\n",
    "nx.set_node_attributes(G_combined, node_degree, 'size') # Size for each node\n",
    "nx.set_node_attributes(G_combined, communities_dict, 'group') # Group the nodes to be communitites\n",
    "\n",
    "# 5. Build Interactive Network using Pyvis\n",
    "net = Network(notebook=True, width=\"1000px\", height=\"1000px\", bgcolor='White', font_color='Black')\n",
    "# Set layout to spring\n",
    "net.barnes_hut(gravity=-1000, central_gravity=0.1, spring_length=50, spring_strength=0.0001)\n",
    "\n",
    "# 6. Display the Network\n",
    "net.from_nx(G_combined)\n",
    "net.show(\"Percy_Grafo_combinado.html\")"
   ]
  },
  {
   "cell_type": "markdown",
   "metadata": {},
   "source": [
    "# Relações"
   ]
  },
  {
   "cell_type": "code",
   "execution_count": 421,
   "metadata": {},
   "outputs": [
    {
     "data": {
      "text/plain": [
       "{'Athena': 0.12168090278416235,\n",
       " 'Jason': 0.1003024598519597,\n",
       " 'Zeus': 0.09676550458666622,\n",
       " 'Nico': 0.09014197683071554,\n",
       " 'Artemis': 0.05190935865173785,\n",
       " 'Reyna': 0.04676729177001403,\n",
       " 'Leo': 0.041353315049101724,\n",
       " 'Octavian': 0.03877375018549084,\n",
       " 'Annabeth': 0.03544389135303982,\n",
       " 'Apollo': 0.03075760639127348,\n",
       " 'Jupiter': 0.030646331030398648,\n",
       " 'Hades': 0.02940064361111832,\n",
       " 'Percy': 0.026722810933991092,\n",
       " 'Titans': 0.0249059078029616,\n",
       " 'Cyclopes': 0.02480566135889998,\n",
       " 'Demeter': 0.02161800009568178,\n",
       " 'Chiron': 0.02027542405004305,\n",
       " 'Hazel': 0.019412557351572792,\n",
       " 'Fates': 0.016422804307981965,\n",
       " 'Pluto': 0.01582632298797996,\n",
       " 'Poseidon': 0.015539971252993836,\n",
       " 'Ares': 0.015458568733217373,\n",
       " 'Clarisse': 0.012935556795022065,\n",
       " 'Aeolus': 0.01195609873324262,\n",
       " 'Mars': 0.011301416622695834,\n",
       " 'Aphrodite': 0.00950200802584241,\n",
       " 'Frank': 0.008089424884682625,\n",
       " 'Kronos': 0.007072145913826355,\n",
       " 'Katie': 0.006382011849947293,\n",
       " 'Mercury': 0.006212427164368094,\n",
       " 'Lupa': 0.004587535223950747,\n",
       " 'Kymopoleia': 0.0036560140261173656,\n",
       " 'Deimos': 0.003312304412550748,\n",
       " 'Hylla': 0.003087440600578193,\n",
       " 'Giants': 0.0028694484575983413,\n",
       " 'Thalia': 0.002810108083158587,\n",
       " 'Piper': 0.002455500384701393,\n",
       " 'Hermes': 0.0020268203409146493,\n",
       " 'Tyson': 0.0019111707597726578,\n",
       " 'Minerva': 0.001788799259359221,\n",
       " 'Oracle': 0.0016742734242020329,\n",
       " 'Hera': 0.0015855596471721714,\n",
       " 'Bianca': 0.001309610733645788,\n",
       " 'Michael': 0.001015619337537146,\n",
       " 'Clovis': 0.000968613987276674,\n",
       " 'Juno': 0.0008439773842555928,\n",
       " 'Medusa': 0.000812417702534833,\n",
       " 'Circe': 0.0006465226984805742,\n",
       " 'Venus': 0.000441140567794411,\n",
       " 'Iris': 0.0004342896451221317,\n",
       " 'Phoebe': 0.00036358886956569373,\n",
       " 'Bacchus': 0.0002922944406610439,\n",
       " 'Lachesis': 0.00025983909545553377,\n",
       " 'Miranda': 0.0001902587519025875,\n",
       " 'Saturn': 0.0001816298801496174,\n",
       " 'Briares': 0.00014798589284890652,\n",
       " 'Hercules': 0.0001180949525698384,\n",
       " 'Persephone': 0.00010107496194824961,\n",
       " 'Neptune': 9.843495029860114e-05,\n",
       " 'Alcyoneus': 9.512937595129375e-05,\n",
       " 'Rhea': 5.4619737388302633e-05,\n",
       " 'Diana': 1.6544239295877174e-05,\n",
       " 'Calypso': 0.0,\n",
       " 'Orion': 0.0,\n",
       " 'Nemesis': 0.0,\n",
       " 'Janus': 0.0,\n",
       " 'Khione': 0.0,\n",
       " 'Will': 0.0,\n",
       " 'Luke': 0.0,\n",
       " 'Tantalus': 0.0,\n",
       " 'Asteria': 0.0,\n",
       " 'Rachel': 0.0,\n",
       " 'Grover': 0.0,\n",
       " 'Atlas': 0.0}"
      ]
     },
     "execution_count": 421,
     "metadata": {},
     "output_type": "execute_result"
    }
   ],
   "source": [
    "#mudar para o G_1,_2,_3 ...\n",
    "degree_centrality = nx.degree_centrality(G_combined)\n",
    "closeness_centrality = nx.closeness_centrality(G_combined)\n",
    "betweenness_centrality = nx.betweenness_centrality(G_10)\n",
    "dict(sorted(betweenness_centrality.items(), key=itemgetter(1), reverse=True))\n",
    "\n"
   ]
  },
  {
   "cell_type": "code",
   "execution_count": 73,
   "metadata": {},
   "outputs": [
    {
     "data": {
      "text/plain": [
       "{'Percy': 0.8034188034188035,\n",
       " 'Annabeth': 0.7948717948717949,\n",
       " 'Zeus': 0.6495726495726496,\n",
       " 'Nico': 0.623931623931624,\n",
       " 'Athena': 0.5982905982905984,\n",
       " 'Chiron': 0.5897435897435898,\n",
       " 'Kronos': 0.5897435897435898,\n",
       " 'Jason': 0.5811965811965812,\n",
       " 'Hades': 0.5726495726495727,\n",
       " 'Poseidon': 0.5641025641025642,\n",
       " 'Apollo': 0.5470085470085471,\n",
       " 'Hazel': 0.5470085470085471,\n",
       " 'Grover': 0.5299145299145299,\n",
       " 'Leo': 0.5128205128205129,\n",
       " 'Hermes': 0.5042735042735044,\n",
       " 'Aphrodite': 0.4871794871794872,\n",
       " 'Ares': 0.4786324786324787,\n",
       " 'Tyson': 0.46153846153846156,\n",
       " 'Frank': 0.46153846153846156,\n",
       " 'Thalia': 0.45299145299145305,\n",
       " 'Cyclopes': 0.4444444444444445,\n",
       " 'Titans': 0.43589743589743596,\n",
       " 'Reyna': 0.43589743589743596,\n",
       " 'Luke': 0.4273504273504274,\n",
       " 'Artemis': 0.4273504273504274,\n",
       " 'Jupiter': 0.4273504273504274,\n",
       " 'Hera': 0.4102564102564103,\n",
       " 'Octavian': 0.3931623931623932,\n",
       " 'Demeter': 0.3760683760683761,\n",
       " 'Mars': 0.3760683760683761,\n",
       " 'Rachel': 0.36752136752136755,\n",
       " 'Gaea': 0.36752136752136755,\n",
       " 'Bianca': 0.35897435897435903,\n",
       " 'Clarisse': 0.35042735042735046,\n",
       " 'Piper': 0.3247863247863248,\n",
       " 'Oracle': 0.3076923076923077,\n",
       " 'Medusa': 0.3076923076923077,\n",
       " 'Bob': 0.2820512820512821,\n",
       " 'Iris': 0.27350427350427353,\n",
       " 'Pan': 0.26495726495726496,\n",
       " 'Juno': 0.25641025641025644,\n",
       " 'Aeolus': 0.2478632478632479,\n",
       " 'Neptune': 0.23931623931623935,\n",
       " 'Daedalus': 0.23076923076923078,\n",
       " 'Fates': 0.23076923076923078,\n",
       " 'Silena': 0.22222222222222224,\n",
       " 'Hestia': 0.2136752136752137,\n",
       " 'Atlas': 0.2136752136752137,\n",
       " 'Persephone': 0.20512820512820515,\n",
       " 'Calypso': 0.20512820512820515,\n",
       " 'Medea': 0.20512820512820515,\n",
       " 'Lupa': 0.20512820512820515,\n",
       " 'Hercules': 0.20512820512820515,\n",
       " 'Zoe': 0.1965811965811966,\n",
       " 'Michael': 0.1965811965811966,\n",
       " 'Bacchus': 0.1965811965811966,\n",
       " 'Nemesis': 0.18803418803418806,\n",
       " 'Ethan': 0.18803418803418806,\n",
       " 'Hylla': 0.18803418803418806,\n",
       " 'Circe': 0.17948717948717952,\n",
       " 'Geryon': 0.17094017094017094,\n",
       " 'Mercury': 0.17094017094017094,\n",
       " 'Minerva': 0.17094017094017094,\n",
       " 'Tantalus': 0.1623931623931624,\n",
       " 'Travis': 0.1623931623931624,\n",
       " 'Khione': 0.1623931623931624,\n",
       " 'Giants': 0.1623931623931624,\n",
       " 'Kelli': 0.15384615384615385,\n",
       " 'Venus': 0.15384615384615385,\n",
       " 'Prometheus': 0.1452991452991453,\n",
       " 'Minotaur': 0.13675213675213677,\n",
       " 'Hyperion': 0.13675213675213677,\n",
       " 'Pluto': 0.13675213675213677,\n",
       " 'Cerberus': 0.12820512820512822,\n",
       " 'Furies': 0.12820512820512822,\n",
       " 'Morpheus': 0.12820512820512822,\n",
       " 'Leneus': 0.12820512820512822,\n",
       " 'Alcyoneus': 0.12820512820512822,\n",
       " 'Gabe': 0.11965811965811968,\n",
       " 'Briares': 0.11965811965811968,\n",
       " 'Saturn': 0.11965811965811968,\n",
       " 'Sally': 0.11111111111111112,\n",
       " 'Clovis': 0.11111111111111112,\n",
       " 'Argus': 0.10256410256410257,\n",
       " 'Midas': 0.10256410256410257,\n",
       " 'Antaeus': 0.09401709401709403,\n",
       " 'Juniper': 0.09401709401709403,\n",
       " 'Phoebe': 0.08547008547008547,\n",
       " 'Euryale': 0.08547008547008547,\n",
       " 'Ladon': 0.07692307692307693,\n",
       " 'Kymopoleia': 0.07692307692307693,\n",
       " 'Charon': 0.06837606837606838,\n",
       " 'Phineas': 0.06837606837606838,\n",
       " 'Stheno': 0.06837606837606838,\n",
       " 'Phorcys': 0.06837606837606838,\n",
       " 'Deimos': 0.06837606837606838,\n",
       " 'Castor': 0.05982905982905984,\n",
       " 'Janus': 0.05982905982905984,\n",
       " 'Rhea': 0.05982905982905984,\n",
       " 'Eris': 0.05982905982905984,\n",
       " 'Diana': 0.05982905982905984,\n",
       " 'Katie': 0.05128205128205129,\n",
       " 'Typhon': 0.05128205128205129,\n",
       " 'Miranda': 0.05128205128205129,\n",
       " 'Asteria': 0.05128205128205129,\n",
       " 'Krios': 0.042735042735042736,\n",
       " 'Orion': 0.042735042735042736,\n",
       " 'Echidna': 0.03418803418803419,\n",
       " 'Charles': 0.03418803418803419,\n",
       " 'Otis': 0.03418803418803419,\n",
       " 'Lachesis': 0.03418803418803419,\n",
       " 'Lee': 0.025641025641025644,\n",
       " 'Delphin': 0.025641025641025644,\n",
       " 'Will': 0.025641025641025644,\n",
       " 'Alecto': 0.025641025641025644,\n",
       " 'Vesta': 0.025641025641025644,\n",
       " 'Ferdinand': 0.017094017094017096,\n",
       " 'Ceres': 0.017094017094017096}"
      ]
     },
     "execution_count": 73,
     "metadata": {},
     "output_type": "execute_result"
    }
   ],
   "source": [
    "from operator import itemgetter\n",
    "dict(sorted(degree_centrality.items(), key=itemgetter(1), reverse=True))"
   ]
  },
  {
   "cell_type": "code",
   "execution_count": 74,
   "metadata": {},
   "outputs": [
    {
     "data": {
      "text/plain": [
       "{'Percy': 0.8357142857142857,\n",
       " 'Annabeth': 0.8297872340425532,\n",
       " 'Zeus': 0.740506329113924,\n",
       " 'Nico': 0.7267080745341615,\n",
       " 'Athena': 0.7134146341463414,\n",
       " 'Chiron': 0.7090909090909091,\n",
       " 'Kronos': 0.7090909090909091,\n",
       " 'Hades': 0.7005988023952096,\n",
       " 'Jason': 0.7005988023952096,\n",
       " 'Poseidon': 0.6964285714285714,\n",
       " 'Apollo': 0.6882352941176471,\n",
       " 'Hazel': 0.6882352941176471,\n",
       " 'Grover': 0.6802325581395349,\n",
       " 'Hermes': 0.6685714285714286,\n",
       " 'Leo': 0.6685714285714286,\n",
       " 'Aphrodite': 0.6610169491525424,\n",
       " 'Ares': 0.6573033707865169,\n",
       " 'Tyson': 0.65,\n",
       " 'Frank': 0.65,\n",
       " 'Thalia': 0.6464088397790055,\n",
       " 'Cyclopes': 0.6428571428571429,\n",
       " 'Reyna': 0.639344262295082,\n",
       " 'Luke': 0.6358695652173914,\n",
       " 'Artemis': 0.6358695652173914,\n",
       " 'Titans': 0.6358695652173914,\n",
       " 'Jupiter': 0.6324324324324324,\n",
       " 'Hera': 0.6290322580645161,\n",
       " 'Octavian': 0.6223404255319149,\n",
       " 'Demeter': 0.6157894736842106,\n",
       " 'Mars': 0.6157894736842106,\n",
       " 'Rachel': 0.612565445026178,\n",
       " 'Bianca': 0.609375,\n",
       " 'Gaea': 0.609375,\n",
       " 'Clarisse': 0.6062176165803109,\n",
       " 'Piper': 0.5939086294416244,\n",
       " 'Oracle': 0.5909090909090909,\n",
       " 'Medusa': 0.5909090909090909,\n",
       " 'Bob': 0.5792079207920792,\n",
       " 'Iris': 0.5763546798029556,\n",
       " 'Pan': 0.5735294117647058,\n",
       " 'Juno': 0.5735294117647058,\n",
       " 'Aeolus': 0.5679611650485437,\n",
       " 'Neptune': 0.5652173913043478,\n",
       " 'Daedalus': 0.5625,\n",
       " 'Fates': 0.5625,\n",
       " 'Hestia': 0.5598086124401914,\n",
       " 'Atlas': 0.5598086124401914,\n",
       " 'Silena': 0.5598086124401914,\n",
       " 'Persephone': 0.5571428571428572,\n",
       " 'Calypso': 0.5545023696682464,\n",
       " 'Hercules': 0.5545023696682464,\n",
       " 'Nemesis': 0.5518867924528302,\n",
       " 'Zoe': 0.5518867924528302,\n",
       " 'Michael': 0.5518867924528302,\n",
       " 'Bacchus': 0.5518867924528302,\n",
       " 'Ethan': 0.5492957746478874,\n",
       " 'Lupa': 0.5492957746478874,\n",
       " 'Hylla': 0.5492957746478874,\n",
       " 'Medea': 0.5467289719626168,\n",
       " 'Circe': 0.5441860465116279,\n",
       " 'Tantalus': 0.5441860465116279,\n",
       " 'Geryon': 0.5416666666666666,\n",
       " 'Prometheus': 0.5391705069124424,\n",
       " 'Kelli': 0.5391705069124424,\n",
       " 'Travis': 0.536697247706422,\n",
       " 'Mercury': 0.536697247706422,\n",
       " 'Giants': 0.536697247706422,\n",
       " 'Pluto': 0.5342465753424658,\n",
       " 'Cerberus': 0.5318181818181819,\n",
       " 'Minotaur': 0.5318181818181819,\n",
       " 'Hyperion': 0.5318181818181819,\n",
       " 'Morpheus': 0.5318181818181819,\n",
       " 'Minerva': 0.5318181818181819,\n",
       " 'Furies': 0.5294117647058824,\n",
       " 'Leneus': 0.5294117647058824,\n",
       " 'Khione': 0.5294117647058824,\n",
       " 'Venus': 0.5294117647058824,\n",
       " 'Gabe': 0.527027027027027,\n",
       " 'Briares': 0.527027027027027,\n",
       " 'Sally': 0.5223214285714286,\n",
       " 'Argus': 0.5223214285714286,\n",
       " 'Alcyoneus': 0.5223214285714286,\n",
       " 'Clovis': 0.52,\n",
       " 'Saturn': 0.52,\n",
       " 'Juniper': 0.5154185022026432,\n",
       " 'Charon': 0.5109170305676856,\n",
       " 'Deimos': 0.5109170305676856,\n",
       " 'Ladon': 0.508695652173913,\n",
       " 'Antaeus': 0.508695652173913,\n",
       " 'Rhea': 0.5064935064935064,\n",
       " 'Kymopoleia': 0.5043103448275862,\n",
       " 'Eris': 0.5021459227467812,\n",
       " 'Phorcys': 0.5,\n",
       " 'Phoebe': 0.4978723404255319,\n",
       " 'Janus': 0.4978723404255319,\n",
       " 'Euryale': 0.4978723404255319,\n",
       " 'Phineas': 0.4936708860759494,\n",
       " 'Midas': 0.4895397489539749,\n",
       " 'Otis': 0.4895397489539749,\n",
       " 'Diana': 0.4895397489539749,\n",
       " 'Krios': 0.4875,\n",
       " 'Stheno': 0.4834710743801653,\n",
       " 'Castor': 0.48148148148148145,\n",
       " 'Typhon': 0.47950819672131145,\n",
       " 'Asteria': 0.4775510204081633,\n",
       " 'Echidna': 0.47560975609756095,\n",
       " 'Charles': 0.47560975609756095,\n",
       " 'Katie': 0.47560975609756095,\n",
       " 'Ceres': 0.47560975609756095,\n",
       " 'Will': 0.47368421052631576,\n",
       " 'Miranda': 0.4717741935483871,\n",
       " 'Delphin': 0.4624505928853755,\n",
       " 'Orion': 0.46062992125984253,\n",
       " 'Alecto': 0.4588235294117647,\n",
       " 'Lee': 0.45348837209302323,\n",
       " 'Lachesis': 0.4448669201520912,\n",
       " 'Vesta': 0.43333333333333335,\n",
       " 'Ferdinand': 0.4090909090909091}"
      ]
     },
     "execution_count": 74,
     "metadata": {},
     "output_type": "execute_result"
    }
   ],
   "source": [
    "dict(sorted(closeness_centrality.items(), key=itemgetter(1), reverse=True))\n"
   ]
  },
  {
   "cell_type": "code",
   "execution_count": 89,
   "metadata": {},
   "outputs": [
    {
     "data": {
      "text/plain": [
       "{'Percy': 0.09737409288148885,\n",
       " 'Annabeth': 0.08356689624921822,\n",
       " 'Zeus': 0.04994562244287517,\n",
       " 'Nico': 0.04472052985078269,\n",
       " 'Jason': 0.03803071925808532,\n",
       " 'Chiron': 0.036499450910620616,\n",
       " 'Hades': 0.03280544772021134,\n",
       " 'Athena': 0.030704201216411344,\n",
       " 'Grover': 0.029987825972349478,\n",
       " 'Poseidon': 0.029236063522178602,\n",
       " 'Kronos': 0.022890626364963664,\n",
       " 'Hazel': 0.022079228015411834,\n",
       " 'Apollo': 0.02195201528382167,\n",
       " 'Hermes': 0.02047197594427372,\n",
       " 'Titans': 0.0179355828003284,\n",
       " 'Ares': 0.015469458355858,\n",
       " 'Leo': 0.015195309229599966,\n",
       " 'Jupiter': 0.0124106535223432,\n",
       " 'Demeter': 0.011816740344605132,\n",
       " 'Aphrodite': 0.01134223172603058,\n",
       " 'Artemis': 0.011029381553183325,\n",
       " 'Frank': 0.010880719793238418,\n",
       " 'Tyson': 0.010797792253576674,\n",
       " 'Reyna': 0.010771351970528613,\n",
       " 'Luke': 0.010430911332605859,\n",
       " 'Cyclopes': 0.010161603496655677,\n",
       " 'Mars': 0.009860090380763634,\n",
       " 'Thalia': 0.009683460903092455,\n",
       " 'Pan': 0.008738504495136854,\n",
       " 'Gaea': 0.007804494470330764,\n",
       " 'Bianca': 0.006271984194157226,\n",
       " 'Hera': 0.005163073426697868,\n",
       " 'Octavian': 0.004925903267434676,\n",
       " 'Fates': 0.004356064387711483,\n",
       " 'Medusa': 0.004297484661692393,\n",
       " 'Rachel': 0.0039967796116732466,\n",
       " 'Clarisse': 0.0030718112279045627,\n",
       " 'Neptune': 0.002903551844578334,\n",
       " 'Piper': 0.00254177672785944,\n",
       " 'Bob': 0.0023326042079348935,\n",
       " 'Aeolus': 0.0023177689443403884,\n",
       " 'Giants': 0.0023021463898500617,\n",
       " 'Silena': 0.002099484804938827,\n",
       " 'Oracle': 0.0019503000744260687,\n",
       " 'Iris': 0.0019461102830336452,\n",
       " 'Lupa': 0.001937077502375856,\n",
       " 'Daedalus': 0.0017311671437655175,\n",
       " 'Hylla': 0.0015964634213572893,\n",
       " 'Nemesis': 0.0012634129508582073,\n",
       " 'Medea': 0.0010918616979858102,\n",
       " 'Zoe': 0.001080242687962568,\n",
       " 'Travis': 0.0010548538769525448,\n",
       " 'Calypso': 0.001023077132507264,\n",
       " 'Juno': 0.0010163919434355761,\n",
       " 'Circe': 0.0009752384004265692,\n",
       " 'Bacchus': 0.0008849728232348503,\n",
       " 'Hyperion': 0.0008347916713507964,\n",
       " 'Persephone': 0.000774480968246204,\n",
       " 'Khione': 0.0007375570391079727,\n",
       " 'Ethan': 0.0007173515717782129,\n",
       " 'Michael': 0.0006735713568865751,\n",
       " 'Minerva': 0.0006145536861633258,\n",
       " 'Cerberus': 0.0005278599368997644,\n",
       " 'Atlas': 0.0005253759714063377,\n",
       " 'Hestia': 0.0005205815197077715,\n",
       " 'Mercury': 0.0005068523562725953,\n",
       " 'Hercules': 0.0004209164469229244,\n",
       " 'Leneus': 0.0004185512408784446,\n",
       " 'Kelli': 0.0004173421340446172,\n",
       " 'Saturn': 0.0003777802553932157,\n",
       " 'Pluto': 0.00037034869894978894,\n",
       " 'Midas': 0.000314889842065026,\n",
       " 'Morpheus': 0.0002945199587236,\n",
       " 'Minotaur': 0.00028352031463831106,\n",
       " 'Clovis': 0.0002774442892656901,\n",
       " 'Geryon': 0.00023070810399359497,\n",
       " 'Furies': 0.0002282540355302616,\n",
       " 'Alcyoneus': 0.00016419264017859258,\n",
       " 'Miranda': 0.0001615807120428758,\n",
       " 'Euryale': 0.0001491490710917513,\n",
       " 'Katie': 0.00014122298199418837,\n",
       " 'Gabe': 0.0001364660315070807,\n",
       " 'Venus': 0.00011982453579680238,\n",
       " 'Sally': 0.00011430112636291307,\n",
       " 'Prometheus': 0.00010489920635467056,\n",
       " 'Kymopoleia': 7.145697344687906e-05,\n",
       " 'Stheno': 6.908935605012668e-05,\n",
       " 'Antaeus': 5.781717716642927e-05,\n",
       " 'Janus': 5.680541881689939e-05,\n",
       " 'Briares': 5.254960434481013e-05,\n",
       " 'Juniper': 4.4559527318148e-05,\n",
       " 'Tantalus': 4.0856224408749114e-05,\n",
       " 'Castor': 3.950126076562858e-05,\n",
       " 'Deimos': 3.5159756013614796e-05,\n",
       " 'Phoebe': 3.1240514675267884e-05,\n",
       " 'Charon': 2.5350423228407313e-05,\n",
       " 'Asteria': 2.2104332449160032e-05,\n",
       " 'Lachesis': 2.1753470029332096e-05,\n",
       " 'Eris': 2.052545155993432e-05,\n",
       " 'Argus': 1.58905308248567e-05,\n",
       " 'Phorcys': 8.186789795985198e-06,\n",
       " 'Phineas': 6.140092346988898e-06,\n",
       " 'Will': 5.894488653109343e-06,\n",
       " 'Vesta': 4.465521706901017e-06,\n",
       " 'Ferdinand': 0.0,\n",
       " 'Echidna': 0.0,\n",
       " 'Charles': 0.0,\n",
       " 'Ladon': 0.0,\n",
       " 'Lee': 0.0,\n",
       " 'Delphin': 0.0,\n",
       " 'Alecto': 0.0,\n",
       " 'Typhon': 0.0,\n",
       " 'Rhea': 0.0,\n",
       " 'Otis': 0.0,\n",
       " 'Ceres': 0.0,\n",
       " 'Krios': 0.0,\n",
       " 'Orion': 0.0,\n",
       " 'Diana': 0.0}"
      ]
     },
     "execution_count": 89,
     "metadata": {},
     "output_type": "execute_result"
    }
   ],
   "source": [
    "dict(sorted(betweenness_centrality.items(), key=itemgetter(1), reverse=True))\n"
   ]
  },
  {
   "cell_type": "code",
   "execution_count": 76,
   "metadata": {},
   "outputs": [
    {
     "name": "stdout",
     "output_type": "stream",
     "text": [
      "Modularidade da rede: 0.1541022348278379\n"
     ]
    }
   ],
   "source": [
    "import community as community_louvain\n",
    "partition = community_louvain.best_partition(G_combined)\n",
    "\n",
    "# Calcular a modularidade\n",
    "modularity = community_louvain.modularity(partition, G_combined)\n",
    "print(\"Modularidade da rede:\", modularity)"
   ]
  },
  {
   "cell_type": "code",
   "execution_count": 77,
   "metadata": {},
   "outputs": [
    {
     "name": "stdout",
     "output_type": "stream",
     "text": [
      "Diâmetro da rede: 3\n"
     ]
    }
   ],
   "source": [
    "diameter = nx.diameter(G_combined)\n",
    "print(\"Diâmetro da rede:\", diameter)"
   ]
  },
  {
   "cell_type": "code",
   "execution_count": 78,
   "metadata": {},
   "outputs": [
    {
     "name": "stdout",
     "output_type": "stream",
     "text": [
      "Comprimento médio do menor caminho da rede: 1.806605823554976\n"
     ]
    }
   ],
   "source": [
    "if nx.is_connected(G_combined):\n",
    "    average_shortest_path_length = nx.average_shortest_path_length(G_combined)\n",
    "    print(\"Comprimento médio do menor caminho da rede:\", average_shortest_path_length)\n",
    "else:\n",
    "    # Se o grafo não for conexo, calcular para cada componente conectado\n",
    "    lengths = [nx.average_shortest_path_length(component) for component in nx.connected_components(G_combined)]\n",
    "    print(\"Comprimento médio do menor caminho para componentes conectados:\", lengths)"
   ]
  },
  {
   "cell_type": "code",
   "execution_count": 82,
   "metadata": {},
   "outputs": [
    {
     "name": "stdout",
     "output_type": "stream",
     "text": [
      "Coeficiente de aglomeração para cada nó: {'Annabeth': 0.3211781206171108, 'Grover': 0.43680592279217345, 'Percy': 0.3086250285975749, 'Chiron': 0.40451832907075874, 'Poseidon': 0.4344988344988345, 'Zeus': 0.38035087719298244, 'Ares': 0.5285714285714286, 'Luke': 0.5395918367346939, 'Cerberus': 0.7047619047619048, 'Hades': 0.43057440072365444, 'Furies': 0.8285714285714286, 'Athena': 0.4335403726708075, 'Clarisse': 0.6780487804878049, 'Oracle': 0.726984126984127, 'Gabe': 0.8791208791208791, 'Kronos': 0.4556692242114237, 'Medusa': 0.6317460317460317, 'Hermes': 0.5189947399181765, 'Minotaur': 0.8083333333333333, 'Thalia': 0.5399129172714079, 'Charon': 0.9285714285714286, 'Aphrodite': 0.5601503759398496, 'Sally': 0.8846153846153846, 'Pan': 0.5956989247311828, 'Prometheus': 0.9117647058823529, 'Apollo': 0.46478174603174605, 'Cyclopes': 0.5641025641025641, 'Tyson': 0.5618448637316562, 'Persephone': 0.75, 'Demeter': 0.5824524312896406, 'Artemis': 0.5706122448979591, 'Ferdinand': 1.0, 'Hera': 0.6391843971631206, 'Argus': 0.9696969696969697, 'Hestia': 0.8433333333333334, 'Nemesis': 0.7489177489177489, 'Echidna': 1.0, 'Circe': 0.6714285714285714, 'Tantalus': 0.9532163742690059, 'Travis': 0.7602339181286549, 'Calypso': 0.6920289855072463, 'Medea': 0.6666666666666666, 'Charles': 1.0, 'Bianca': 0.6527293844367015, 'Zoe': 0.7865612648221344, 'Nico': 0.4003044140030441, 'Atlas': 0.8233333333333334, 'Ladon': 1.0, 'Silena': 0.7753846153846153, 'Rachel': 0.6445182724252492, 'Kelli': 0.803921568627451, 'Geryon': 0.8842105263157894, 'Daedalus': 0.7435897435897436, 'Briares': 0.9120879120879121, 'Antaeus': 0.8909090909090909, 'Juniper': 0.9272727272727272, 'Ethan': 0.7662337662337663, 'Hyperion': 0.6916666666666667, 'Morpheus': 0.7714285714285715, 'Lee': 1.0, 'Castor': 0.8095238095238095, 'Leneus': 0.7333333333333333, 'Michael': 0.7628458498023716, 'Delphin': 1.0, 'Will': 0.6666666666666666, 'Alecto': 1.0, 'Katie': 0.7333333333333333, 'Jason': 0.42142230026338895, 'Leo': 0.5011299435028248, 'Aeolus': 0.7118226600985221, 'Piper': 0.6970128022759602, 'Midas': 0.6212121212121212, 'Khione': 0.7660818713450293, 'Clovis': 0.8461538461538461, 'Lupa': 0.6992753623188406, 'Jupiter': 0.5624489795918367, 'Juno': 0.774712643678161, 'Gaea': 0.5459579180509413, 'Titans': 0.48, 'Fates': 0.6780626780626781, 'Phoebe': 0.9111111111111111, 'Typhon': 1.0, 'Iris': 0.7076612903225806, 'Mercury': 0.7315789473684211, 'Giants': 0.672514619883041, 'Bob': 0.740530303030303, 'Reyna': 0.5435294117647059, 'Miranda': 0.6, 'Asteria': 0.8666666666666667, 'Hazel': 0.46875, 'Janus': 0.8095238095238095, 'Hercules': 0.822463768115942, 'Rhea': 1.0, 'Frank': 0.5443745632424878, 'Mars': 0.6035940803382663, 'Octavian': 0.6270531400966184, 'Alcyoneus': 0.819047619047619, 'Neptune': 0.6322751322751323, 'Hylla': 0.7229437229437229, 'Pluto': 0.7416666666666667, 'Phineas': 0.9642857142857143, 'Euryale': 0.8, 'Stheno': 0.8214285714285714, 'Minerva': 0.7105263157894737, 'Bacchus': 0.7430830039525692, 'Saturn': 0.7362637362637363, 'Phorcys': 0.9642857142857143, 'Otis': 1.0, 'Venus': 0.8888888888888888, 'Vesta': 0.6666666666666666, 'Ceres': 1.0, 'Eris': 0.8571428571428571, 'Krios': 1.0, 'Lachesis': 0.6666666666666666, 'Kymopoleia': 0.8333333333333334, 'Orion': 1.0, 'Deimos': 0.8928571428571429, 'Diana': 1.0}\n"
     ]
    }
   ],
   "source": [
    "clustering_coeffs = nx.clustering(G_combined)\n",
    "print(\"Coeficiente de aglomeração para cada nó:\", clustering_coeffs)"
   ]
  },
  {
   "cell_type": "code",
   "execution_count": 81,
   "metadata": {},
   "outputs": [
    {
     "name": "stdout",
     "output_type": "stream",
     "text": [
      "Coeficiente de aglomeração médio da rede: 0.7280132338431399\n"
     ]
    }
   ],
   "source": [
    "average_clustering = nx.average_clustering(G_combined)\n",
    "print(\"Coeficiente de aglomeração médio da rede:\", average_clustering)"
   ]
  },
  {
   "cell_type": "code",
   "execution_count": 83,
   "metadata": {},
   "outputs": [
    {
     "name": "stdout",
     "output_type": "stream",
     "text": [
      "Número de componentes conectados: 1\n"
     ]
    }
   ],
   "source": [
    "components = list(nx.connected_components(G_combined))\n",
    "num_components = len(components)\n",
    "\n",
    "print(f\"Número de componentes conectados: {num_components}\")"
   ]
  },
  {
   "cell_type": "code",
   "execution_count": 423,
   "metadata": {},
   "outputs": [
    {
     "name": "stdout",
     "output_type": "stream",
     "text": [
      "Coeficiente de aglomeração médio da rede: 0.7280132338431399\n",
      "Número de componentes conectados: 1\n",
      "Comprimento médio do menor caminho da rede: 1.806605823554976\n",
      "Diâmetro da rede: 3\n",
      "Modularidade da rede: 0.15626389261000911\n"
     ]
    }
   ],
   "source": [
    "#Informações gerais da rede\n",
    "print(\"Coeficiente de aglomeração médio da rede:\", average_clustering)\n",
    "print(f\"Número de componentes conectados: {num_components}\")\n",
    "if nx.is_connected(G_combined):\n",
    "    average_shortest_path_length = nx.average_shortest_path_length(G_combined)\n",
    "    print(\"Comprimento médio do menor caminho da rede:\", average_shortest_path_length)\n",
    "else:\n",
    "    # Se o grafo não for conexo, calcular para cada componente conectado\n",
    "    lengths = [nx.average_shortest_path_length(component) for component in nx.connected_components(G_combined)]\n",
    "    print(\"Comprimento médio do menor caminho para componentes conectados:\", lengths)\n",
    "diameter = nx.diameter(G_combined)\n",
    "print(\"Diâmetro da rede:\", diameter)\n",
    "import community as community_louvain\n",
    "partition = community_louvain.best_partition(G_combined)\n",
    "\n",
    "# Calcular a modularidade\n",
    "modularity = community_louvain.modularity(partition, G_combined)\n",
    "print(\"Modularidade da rede:\", modularity)"
   ]
  },
  {
   "cell_type": "code",
   "execution_count": 18,
   "metadata": {},
   "outputs": [
    {
     "name": "stderr",
     "output_type": "stream",
     "text": [
      "C:\\Users\\T-GAMER\\AppData\\Local\\Temp\\ipykernel_53816\\1097536036.py:19: MatplotlibDeprecationWarning: The get_cmap function was deprecated in Matplotlib 3.7 and will be removed two minor releases later. Use ``matplotlib.colormaps[name]`` or ``matplotlib.colormaps.get_cmap(obj)`` instead.\n",
      "  colormap = cm.get_cmap('viridis')  # Change 'viridis' to any colormap you prefer\n"
     ]
    },
    {
     "data": {
      "image/png": "[encoded data removed]",
      "text/plain": [
       "<Figure size 1200x800 with 1 Axes>"
      ]
     },
     "metadata": {},
     "output_type": "display_data"
    }
   ],
   "source": [
    "import matplotlib.pyplot as plt\n",
    "import matplotlib.cm as cm\n",
    "import networkx as nx\n",
    "\n",
    "# Calculate betweenness centrality for each node\n",
    "centrality_scores = nx.betweenness_centrality(G_5)\n",
    "\n",
    "# Sort nodes by centrality scores in descending order\n",
    "sorted_nodes = sorted(centrality_scores.items(), key=lambda x: x[1], reverse=True)\n",
    "\n",
    "# Select the top 10 nodes with the highest centrality scores\n",
    "top_10_nodes = sorted_nodes[:10]\n",
    "\n",
    "# Extract the character names and centrality scores\n",
    "top_10_names = [node[0] for node in top_10_nodes]\n",
    "top_10_scores = [node[1] for node in top_10_nodes]\n",
    "\n",
    "# Choose a colormap\n",
    "colormap = cm.get_cmap('viridis')  # Change 'viridis' to any colormap you prefer\n",
    "colors = [colormap(i / len(top_10_scores)) for i in range(len(top_10_scores))]\n",
    "\n",
    "# Create a bar plot for the top 10 most important characters\n",
    "plt.figure(figsize=(12, 8))  # Set the figure size (adjust as needed)\n",
    "bars = plt.barh(top_10_names, top_10_scores, color=colors)  # Horizontal bar plot with colormap\n",
    "\n",
    "# Add labels and title\n",
    "plt.xlabel(\"Betweenness Centrality\")\n",
    "plt.ylabel(\"Character\")\n",
    "plt.title(\"Top 10 Betweenness Centrality\")\n",
    "\n",
    "plt.gca().spines['top'].set_visible(False)\n",
    "plt.gca().spines['right'].set_visible(False)\n",
    "\n",
    "# Invert the y-axis to display the highest centrality at the top\n",
    "plt.gca().invert_yaxis()\n",
    "\n",
    "# Add text labels to each bar\n",
    "for bar in bars:\n",
    "    width = bar.get_width()\n",
    "    plt.text(width + 0.002, bar.get_y() + bar.get_height()/2, f'{width:.2f}', \n",
    "             va='center', ha='left', fontsize=10, color='black')\n",
    "\n",
    "# Show the plot\n",
    "plt.tight_layout()\n",
    "plt.savefig('Principal_2.png')\n",
    "plt.show()"
   ]
  },
  {
   "cell_type": "markdown",
   "metadata": {},
   "source": [
    "#PROXIMA ANALISE"
   ]
  },
  {
   "cell_type": "code",
   "execution_count": 119,
   "metadata": {},
   "outputs": [
    {
     "data": {
      "text/plain": [
       "{'Athena': 0.12168090278416235,\n",
       " 'Jason': 0.1003024598519597,\n",
       " 'Zeus': 0.09676550458666622,\n",
       " 'Nico': 0.09014197683071554,\n",
       " 'Artemis': 0.05190935865173785,\n",
       " 'Reyna': 0.04676729177001403,\n",
       " 'Leo': 0.041353315049101724,\n",
       " 'Octavian': 0.03877375018549084,\n",
       " 'Annabeth': 0.03544389135303982,\n",
       " 'Apollo': 0.03075760639127348,\n",
       " 'Jupiter': 0.030646331030398648,\n",
       " 'Hades': 0.02940064361111832,\n",
       " 'Percy': 0.026722810933991092,\n",
       " 'Titans': 0.0249059078029616,\n",
       " 'Cyclopes': 0.02480566135889998,\n",
       " 'Demeter': 0.02161800009568178,\n",
       " 'Chiron': 0.02027542405004305,\n",
       " 'Hazel': 0.019412557351572792,\n",
       " 'Fates': 0.016422804307981965,\n",
       " 'Pluto': 0.01582632298797996,\n",
       " 'Poseidon': 0.015539971252993836,\n",
       " 'Ares': 0.015458568733217373,\n",
       " 'Clarisse': 0.012935556795022065,\n",
       " 'Aeolus': 0.01195609873324262,\n",
       " 'Mars': 0.011301416622695834,\n",
       " 'Aphrodite': 0.00950200802584241,\n",
       " 'Frank': 0.008089424884682625,\n",
       " 'Kronos': 0.007072145913826355,\n",
       " 'Katie': 0.006382011849947293,\n",
       " 'Mercury': 0.006212427164368094,\n",
       " 'Lupa': 0.004587535223950747,\n",
       " 'Kymopoleia': 0.0036560140261173656,\n",
       " 'Deimos': 0.003312304412550748,\n",
       " 'Hylla': 0.003087440600578193,\n",
       " 'Giants': 0.0028694484575983413,\n",
       " 'Thalia': 0.002810108083158587,\n",
       " 'Piper': 0.002455500384701393,\n",
       " 'Hermes': 0.0020268203409146493,\n",
       " 'Tyson': 0.0019111707597726578,\n",
       " 'Minerva': 0.001788799259359221,\n",
       " 'Oracle': 0.0016742734242020329,\n",
       " 'Hera': 0.0015855596471721714,\n",
       " 'Bianca': 0.001309610733645788,\n",
       " 'Michael': 0.001015619337537146,\n",
       " 'Clovis': 0.000968613987276674,\n",
       " 'Juno': 0.0008439773842555928,\n",
       " 'Medusa': 0.000812417702534833,\n",
       " 'Circe': 0.0006465226984805742,\n",
       " 'Venus': 0.000441140567794411,\n",
       " 'Iris': 0.0004342896451221317,\n",
       " 'Phoebe': 0.00036358886956569373,\n",
       " 'Bacchus': 0.0002922944406610439,\n",
       " 'Lachesis': 0.00025983909545553377,\n",
       " 'Miranda': 0.0001902587519025875,\n",
       " 'Saturn': 0.0001816298801496174,\n",
       " 'Briares': 0.00014798589284890652,\n",
       " 'Hercules': 0.0001180949525698384,\n",
       " 'Persephone': 0.00010107496194824961,\n",
       " 'Neptune': 9.843495029860114e-05,\n",
       " 'Alcyoneus': 9.512937595129375e-05,\n",
       " 'Rhea': 5.4619737388302633e-05,\n",
       " 'Diana': 1.6544239295877174e-05,\n",
       " 'Calypso': 0.0,\n",
       " 'Orion': 0.0,\n",
       " 'Nemesis': 0.0,\n",
       " 'Janus': 0.0,\n",
       " 'Khione': 0.0,\n",
       " 'Will': 0.0,\n",
       " 'Luke': 0.0,\n",
       " 'Tantalus': 0.0,\n",
       " 'Asteria': 0.0,\n",
       " 'Rachel': 0.0,\n",
       " 'Grover': 0.0,\n",
       " 'Atlas': 0.0}"
      ]
     },
     "execution_count": 119,
     "metadata": {},
     "output_type": "execute_result"
    }
   ],
   "source": [
    " betweenness_centrality_1 = nx.betweenness_centrality(G_1)\n",
    "dict(sorted(betweenness_centrality_1.items(), key=itemgetter(1), reverse=True))\n",
    "\n",
    " betweenness_centrality_2 = nx.betweenness_centrality(G_2)\n",
    "dict(sorted(betweenness_centrality_2.items(), key=itemgetter(1), reverse=True))\n",
    "\n",
    " betweenness_centrality_3 = nx.betweenness_centrality(G_3)\n",
    "dict(sorted(betweenness_centrality_3.items(), key=itemgetter(1), reverse=True))\n",
    "\n",
    " betweenness_centrality_4 = nx.betweenness_centrality(G_4)\n",
    "dict(sorted(betweenness_centrality_4.items(), key=itemgetter(1), reverse=True))\n",
    "\n",
    " betweenness_centrality_5 = nx.betweenness_centrality(G_5)\n",
    "dict(sorted(betweenness_centrality_5.items(), key=itemgetter(1), reverse=True))\n",
    "\n",
    "betweenness_centrality_6 = nx.betweenness_centrality(G_6)\n",
    "dict(sorted(betweenness_centrality_6.items(), key=itemgetter(1), reverse=True))\n",
    "\n",
    "betweenness_centrality_7 = nx.betweenness_centrality(G_7)\n",
    "dict(sorted(betweenness_centrality_7.items(), key=itemgetter(1), reverse=True))\n",
    "\n",
    "betweenness_centrality_8 = nx.betweenness_centrality(G_8)\n",
    "dict(sorted(betweenness_centrality_8.items(), key=itemgetter(1), reverse=True))\n",
    "\n",
    "betweenness_centrality_9 = nx.betweenness_centrality(G_9)\n",
    "dict(sorted(betweenness_centrality_9.items(), key=itemgetter(1), reverse=True))\n",
    "\n",
    "betweenness_centrality_10 = nx.betweenness_centrality(G_10)\n",
    "dict(sorted(betweenness_centrality_10.items(), key=itemgetter(1), reverse=True))\n"
   ]
  },
  {
   "cell_type": "code",
   "execution_count": 147,
   "metadata": {},
   "outputs": [
    {
     "data": {
      "text/plain": [
       "{'Athena': 0.12168090278416235,\n",
       " 'Jason': 0.1003024598519597,\n",
       " 'Zeus': 0.09676550458666622,\n",
       " 'Nico': 0.09014197683071554,\n",
       " 'Artemis': 0.05190935865173785,\n",
       " 'Reyna': 0.04676729177001403,\n",
       " 'Leo': 0.041353315049101724,\n",
       " 'Octavian': 0.03877375018549084,\n",
       " 'Annabeth': 0.03544389135303982,\n",
       " 'Apollo': 0.03075760639127348,\n",
       " 'Jupiter': 0.030646331030398648,\n",
       " 'Hades': 0.02940064361111832,\n",
       " 'Percy': 0.026722810933991092,\n",
       " 'Titans': 0.0249059078029616,\n",
       " 'Cyclopes': 0.02480566135889998,\n",
       " 'Demeter': 0.02161800009568178,\n",
       " 'Chiron': 0.02027542405004305,\n",
       " 'Hazel': 0.019412557351572792,\n",
       " 'Fates': 0.016422804307981965,\n",
       " 'Pluto': 0.01582632298797996,\n",
       " 'Poseidon': 0.015539971252993836,\n",
       " 'Ares': 0.015458568733217373,\n",
       " 'Clarisse': 0.012935556795022065,\n",
       " 'Aeolus': 0.01195609873324262,\n",
       " 'Mars': 0.011301416622695834,\n",
       " 'Aphrodite': 0.00950200802584241,\n",
       " 'Frank': 0.008089424884682625,\n",
       " 'Kronos': 0.007072145913826355,\n",
       " 'Katie': 0.006382011849947293,\n",
       " 'Mercury': 0.006212427164368094,\n",
       " 'Lupa': 0.004587535223950747,\n",
       " 'Kymopoleia': 0.0036560140261173656,\n",
       " 'Deimos': 0.003312304412550748,\n",
       " 'Hylla': 0.003087440600578193,\n",
       " 'Giants': 0.0028694484575983413,\n",
       " 'Thalia': 0.002810108083158587,\n",
       " 'Piper': 0.002455500384701393,\n",
       " 'Hermes': 0.0020268203409146493,\n",
       " 'Tyson': 0.0019111707597726578,\n",
       " 'Minerva': 0.001788799259359221,\n",
       " 'Oracle': 0.0016742734242020329,\n",
       " 'Hera': 0.0015855596471721714,\n",
       " 'Bianca': 0.001309610733645788,\n",
       " 'Michael': 0.001015619337537146,\n",
       " 'Clovis': 0.000968613987276674,\n",
       " 'Juno': 0.0008439773842555928,\n",
       " 'Medusa': 0.000812417702534833,\n",
       " 'Circe': 0.0006465226984805742,\n",
       " 'Venus': 0.000441140567794411,\n",
       " 'Iris': 0.0004342896451221317,\n",
       " 'Phoebe': 0.00036358886956569373,\n",
       " 'Bacchus': 0.0002922944406610439,\n",
       " 'Lachesis': 0.00025983909545553377,\n",
       " 'Miranda': 0.0001902587519025875,\n",
       " 'Saturn': 0.0001816298801496174,\n",
       " 'Briares': 0.00014798589284890652,\n",
       " 'Hercules': 0.0001180949525698384,\n",
       " 'Persephone': 0.00010107496194824961,\n",
       " 'Neptune': 9.843495029860114e-05,\n",
       " 'Alcyoneus': 9.512937595129375e-05,\n",
       " 'Rhea': 5.4619737388302633e-05,\n",
       " 'Diana': 1.6544239295877174e-05,\n",
       " 'Calypso': 0.0,\n",
       " 'Orion': 0.0,\n",
       " 'Nemesis': 0.0,\n",
       " 'Janus': 0.0,\n",
       " 'Khione': 0.0,\n",
       " 'Will': 0.0,\n",
       " 'Luke': 0.0,\n",
       " 'Tantalus': 0.0,\n",
       " 'Asteria': 0.0,\n",
       " 'Rachel': 0.0,\n",
       " 'Grover': 0.0,\n",
       " 'Atlas': 0.0}"
      ]
     },
     "execution_count": 147,
     "metadata": {},
     "output_type": "execute_result"
    }
   ],
   "source": [
    "dict(sorted(betweenness_centrality_10.items(), key=itemgetter(1), reverse=True))"
   ]
  },
  {
   "cell_type": "code",
   "execution_count": 158,
   "metadata": {},
   "outputs": [],
   "source": [
    "data = {\n",
    "    'Nomes': [\"Percy\",\"Kronos\",\"Annabeth\",\"Hades\",\"Luke\",\"Grover\"],\n",
    "    'Livro1': [0.07262178404261554, 0.00021028354361687696, 0.12478063384870844, 0.03676210035398448,0.01229925115263461,0.1863138800756743],\n",
    "    'Livro2': [0.03745564498515091, 0.017816756957585705, 0.19790133841403762, 0.0005589238347859037, 0.08186015493603684, 0.05486008003394269],\n",
    "    'Livro3': [0.026225945011594483, 0.016074225598035122, 0.15630255361858073, 0, 0.03141370027799463, 0.048149439476139845],\n",
    "    'Livro4': [0.03233414063849182, 0.04512656493390266, 0.1742743271265506, 0.0040404324506932605, 0.09476594099215573, 0.06481666557795768],\n",
    "    'Livro5': [0.14800752806752468, 0.08625031242637365, 0.06487064223153856, 0.053242558614694374, 0.030109185853561676, 0.018998613265397143],\n",
    "    'Livro6': [0.018674949016199874, 0.009936138064078235, 0.06910030735581577, 0.0006467834113938009, 0, 0],\n",
    "    'Livro7': [0.17901118628159446, 0, 0,0, 0, 0],\n",
    "    'Livro8': [0.18801006838150677, 0.006962267060484208, 0.2145276064887523, 0, 0.0002768153403362115, 0.0014106146592534979],\n",
    "    'Livro9': [0.15404334545634565, 0.019700694641156764, 0.1544281995311369, 0.020029089870119445, 0.0009423134020696831,  0.00141061465925349795],\n",
    "    'Livro10': [0.026722810933991092, 0.007072145913826355, 0.03544389135303982, 0.02940064361111832, 0,0 ]\n",
    "}\n"
   ]
  },
  {
   "cell_type": "code",
   "execution_count": 424,
   "metadata": {},
   "outputs": [
    {
     "data": {
      "text/html": [
       "<div>\n",
       "<style scoped>\n",
       "    .dataframe tbody tr th:only-of-type {\n",
       "        vertical-align: middle;\n",
       "    }\n",
       "\n",
       "    .dataframe tbody tr th {\n",
       "        vertical-align: top;\n",
       "    }\n",
       "\n",
       "    .dataframe thead th {\n",
       "        text-align: right;\n",
       "    }\n",
       "</style>\n",
       "<table border=\"1\" class=\"dataframe\">\n",
       "  <thead>\n",
       "    <tr style=\"text-align: right;\">\n",
       "      <th></th>\n",
       "      <th>Nomes</th>\n",
       "      <th>Livro1</th>\n",
       "      <th>Livro2</th>\n",
       "      <th>Livro3</th>\n",
       "      <th>Livro4</th>\n",
       "      <th>Livro5</th>\n",
       "      <th>Livro6</th>\n",
       "      <th>Livro7</th>\n",
       "      <th>Livro8</th>\n",
       "      <th>Livro9</th>\n",
       "      <th>Livro10</th>\n",
       "    </tr>\n",
       "  </thead>\n",
       "  <tbody>\n",
       "    <tr>\n",
       "      <th>0</th>\n",
       "      <td>Percy</td>\n",
       "      <td>0.072622</td>\n",
       "      <td>0.037456</td>\n",
       "      <td>0.026226</td>\n",
       "      <td>0.032334</td>\n",
       "      <td>0.148008</td>\n",
       "      <td>0.018675</td>\n",
       "      <td>0.179011</td>\n",
       "      <td>0.188010</td>\n",
       "      <td>0.154043</td>\n",
       "      <td>0.026723</td>\n",
       "    </tr>\n",
       "    <tr>\n",
       "      <th>1</th>\n",
       "      <td>Kronos</td>\n",
       "      <td>0.000210</td>\n",
       "      <td>0.017817</td>\n",
       "      <td>0.016074</td>\n",
       "      <td>0.045127</td>\n",
       "      <td>0.086250</td>\n",
       "      <td>0.009936</td>\n",
       "      <td>0.000000</td>\n",
       "      <td>0.006962</td>\n",
       "      <td>0.019701</td>\n",
       "      <td>0.007072</td>\n",
       "    </tr>\n",
       "    <tr>\n",
       "      <th>2</th>\n",
       "      <td>Annabeth</td>\n",
       "      <td>0.124781</td>\n",
       "      <td>0.197901</td>\n",
       "      <td>0.156303</td>\n",
       "      <td>0.174274</td>\n",
       "      <td>0.064871</td>\n",
       "      <td>0.069100</td>\n",
       "      <td>0.000000</td>\n",
       "      <td>0.214528</td>\n",
       "      <td>0.154428</td>\n",
       "      <td>0.035444</td>\n",
       "    </tr>\n",
       "    <tr>\n",
       "      <th>3</th>\n",
       "      <td>Hades</td>\n",
       "      <td>0.036762</td>\n",
       "      <td>0.000559</td>\n",
       "      <td>0.000000</td>\n",
       "      <td>0.004040</td>\n",
       "      <td>0.053243</td>\n",
       "      <td>0.000647</td>\n",
       "      <td>0.000000</td>\n",
       "      <td>0.000000</td>\n",
       "      <td>0.020029</td>\n",
       "      <td>0.029401</td>\n",
       "    </tr>\n",
       "    <tr>\n",
       "      <th>4</th>\n",
       "      <td>Luke</td>\n",
       "      <td>0.012299</td>\n",
       "      <td>0.081860</td>\n",
       "      <td>0.031414</td>\n",
       "      <td>0.094766</td>\n",
       "      <td>0.030109</td>\n",
       "      <td>0.000000</td>\n",
       "      <td>0.000000</td>\n",
       "      <td>0.000277</td>\n",
       "      <td>0.000942</td>\n",
       "      <td>0.000000</td>\n",
       "    </tr>\n",
       "    <tr>\n",
       "      <th>5</th>\n",
       "      <td>Grover</td>\n",
       "      <td>0.186314</td>\n",
       "      <td>0.054860</td>\n",
       "      <td>0.048149</td>\n",
       "      <td>0.064817</td>\n",
       "      <td>0.018999</td>\n",
       "      <td>0.000000</td>\n",
       "      <td>0.000000</td>\n",
       "      <td>0.001411</td>\n",
       "      <td>0.001411</td>\n",
       "      <td>0.000000</td>\n",
       "    </tr>\n",
       "  </tbody>\n",
       "</table>\n",
       "</div>"
      ],
      "text/plain": [
       "      Nomes    Livro1    Livro2    Livro3    Livro4    Livro5    Livro6  \\\n",
       "0     Percy  0.072622  0.037456  0.026226  0.032334  0.148008  0.018675   \n",
       "1    Kronos  0.000210  0.017817  0.016074  0.045127  0.086250  0.009936   \n",
       "2  Annabeth  0.124781  0.197901  0.156303  0.174274  0.064871  0.069100   \n",
       "3     Hades  0.036762  0.000559  0.000000  0.004040  0.053243  0.000647   \n",
       "4      Luke  0.012299  0.081860  0.031414  0.094766  0.030109  0.000000   \n",
       "5    Grover  0.186314  0.054860  0.048149  0.064817  0.018999  0.000000   \n",
       "\n",
       "     Livro7    Livro8    Livro9   Livro10  \n",
       "0  0.179011  0.188010  0.154043  0.026723  \n",
       "1  0.000000  0.006962  0.019701  0.007072  \n",
       "2  0.000000  0.214528  0.154428  0.035444  \n",
       "3  0.000000  0.000000  0.020029  0.029401  \n",
       "4  0.000000  0.000277  0.000942  0.000000  \n",
       "5  0.000000  0.001411  0.001411  0.000000  "
      ]
     },
     "execution_count": 424,
     "metadata": {},
     "output_type": "execute_result"
    }
   ],
   "source": [
    "df = pd.DataFrame(data)\n",
    "df"
   ]
  },
  {
   "cell_type": "code",
   "execution_count": 425,
   "metadata": {},
   "outputs": [
    {
     "data": {
      "image/png": "[encoded data removed]",
      "text/plain": [
       "<Figure size 1200x800 with 1 Axes>"
      ]
     },
     "metadata": {},
     "output_type": "display_data"
    }
   ],
   "source": [
    "plt.figure(figsize=(12, 8))\n",
    "\n",
    "# Plotar cada linha para cada personagem\n",
    "for i, nome in enumerate(df['Nomes']):\n",
    "    plt.plot(df.columns[1:], df.iloc[i, 1:], marker='o', label=nome)\n",
    "\n",
    "# Adicionar título e legendas\n",
    "plt.title('Evolução dos Valores ao Longo dos Livros para Cada Personagem')\n",
    "plt.xlabel('Livros')\n",
    "plt.ylabel('Valores')\n",
    "plt.legend(title='Personagens')\n",
    "plt.grid(True)\n",
    "\n",
    "# Exibir gráfico\n",
    "plt.tight_layout()\n",
    "plt.show()"
   ]
  },
  {
   "cell_type": "code",
   "execution_count": 426,
   "metadata": {},
   "outputs": [
    {
     "data": {
      "text/html": [
       "<div>\n",
       "<style scoped>\n",
       "    .dataframe tbody tr th:only-of-type {\n",
       "        vertical-align: middle;\n",
       "    }\n",
       "\n",
       "    .dataframe tbody tr th {\n",
       "        vertical-align: top;\n",
       "    }\n",
       "\n",
       "    .dataframe thead th {\n",
       "        text-align: right;\n",
       "    }\n",
       "</style>\n",
       "<table border=\"1\" class=\"dataframe\">\n",
       "  <thead>\n",
       "    <tr style=\"text-align: right;\">\n",
       "      <th></th>\n",
       "      <th>Nomes</th>\n",
       "      <th>Livro1</th>\n",
       "      <th>Livro2</th>\n",
       "      <th>Livro3</th>\n",
       "      <th>Livro4</th>\n",
       "      <th>Livro5</th>\n",
       "      <th>Livro6</th>\n",
       "      <th>Livro7</th>\n",
       "      <th>Livro8</th>\n",
       "      <th>Livro9</th>\n",
       "      <th>Livro10</th>\n",
       "    </tr>\n",
       "  </thead>\n",
       "  <tbody>\n",
       "    <tr>\n",
       "      <th>0</th>\n",
       "      <td>Percy</td>\n",
       "      <td>0.072622</td>\n",
       "      <td>0.037456</td>\n",
       "      <td>0.026226</td>\n",
       "      <td>0.032334</td>\n",
       "      <td>0.148008</td>\n",
       "      <td>0.018675</td>\n",
       "      <td>0.179011</td>\n",
       "      <td>0.188010</td>\n",
       "      <td>0.154043</td>\n",
       "      <td>0.026723</td>\n",
       "    </tr>\n",
       "    <tr>\n",
       "      <th>1</th>\n",
       "      <td>Kronos</td>\n",
       "      <td>0.000210</td>\n",
       "      <td>0.017817</td>\n",
       "      <td>0.016074</td>\n",
       "      <td>0.045127</td>\n",
       "      <td>0.086250</td>\n",
       "      <td>0.009936</td>\n",
       "      <td>0.000000</td>\n",
       "      <td>0.006962</td>\n",
       "      <td>0.019701</td>\n",
       "      <td>0.007072</td>\n",
       "    </tr>\n",
       "    <tr>\n",
       "      <th>2</th>\n",
       "      <td>Annabeth</td>\n",
       "      <td>0.124781</td>\n",
       "      <td>0.197901</td>\n",
       "      <td>0.156303</td>\n",
       "      <td>0.174274</td>\n",
       "      <td>0.064871</td>\n",
       "      <td>0.069100</td>\n",
       "      <td>0.000000</td>\n",
       "      <td>0.214528</td>\n",
       "      <td>0.154428</td>\n",
       "      <td>0.035444</td>\n",
       "    </tr>\n",
       "    <tr>\n",
       "      <th>4</th>\n",
       "      <td>Luke</td>\n",
       "      <td>0.012299</td>\n",
       "      <td>0.081860</td>\n",
       "      <td>0.031414</td>\n",
       "      <td>0.094766</td>\n",
       "      <td>0.030109</td>\n",
       "      <td>0.000000</td>\n",
       "      <td>0.000000</td>\n",
       "      <td>0.000277</td>\n",
       "      <td>0.000942</td>\n",
       "      <td>0.000000</td>\n",
       "    </tr>\n",
       "    <tr>\n",
       "      <th>5</th>\n",
       "      <td>Grover</td>\n",
       "      <td>0.186314</td>\n",
       "      <td>0.054860</td>\n",
       "      <td>0.048149</td>\n",
       "      <td>0.064817</td>\n",
       "      <td>0.018999</td>\n",
       "      <td>0.000000</td>\n",
       "      <td>0.000000</td>\n",
       "      <td>0.001411</td>\n",
       "      <td>0.001411</td>\n",
       "      <td>0.000000</td>\n",
       "    </tr>\n",
       "  </tbody>\n",
       "</table>\n",
       "</div>"
      ],
      "text/plain": [
       "      Nomes    Livro1    Livro2    Livro3    Livro4    Livro5    Livro6  \\\n",
       "0     Percy  0.072622  0.037456  0.026226  0.032334  0.148008  0.018675   \n",
       "1    Kronos  0.000210  0.017817  0.016074  0.045127  0.086250  0.009936   \n",
       "2  Annabeth  0.124781  0.197901  0.156303  0.174274  0.064871  0.069100   \n",
       "4      Luke  0.012299  0.081860  0.031414  0.094766  0.030109  0.000000   \n",
       "5    Grover  0.186314  0.054860  0.048149  0.064817  0.018999  0.000000   \n",
       "\n",
       "     Livro7    Livro8    Livro9   Livro10  \n",
       "0  0.179011  0.188010  0.154043  0.026723  \n",
       "1  0.000000  0.006962  0.019701  0.007072  \n",
       "2  0.000000  0.214528  0.154428  0.035444  \n",
       "4  0.000000  0.000277  0.000942  0.000000  \n",
       "5  0.000000  0.001411  0.001411  0.000000  "
      ]
     },
     "execution_count": 426,
     "metadata": {},
     "output_type": "execute_result"
    }
   ],
   "source": [
    "df = df[df['Nomes'] != 'Hades']\n",
    "df\n"
   ]
  },
  {
   "cell_type": "code",
   "execution_count": 428,
   "metadata": {},
   "outputs": [
    {
     "data": {
      "image/png": "[encoded data removed]",
      "text/plain": [
       "<Figure size 1200x800 with 1 Axes>"
      ]
     },
     "metadata": {},
     "output_type": "display_data"
    }
   ],
   "source": [
    "plt.figure(figsize=(12, 8))\n",
    "\n",
    "# Plotar cada linha para cada personagem\n",
    "for i, nome in enumerate(df['Nomes']):\n",
    "    plt.plot(df.columns[1:], df.iloc[i, 1:], marker='o', label=nome)\n",
    "\n",
    "# Adicionar título e legendas\n",
    "plt.title('Betweenness Evolution')\n",
    "plt.xlabel('Book')\n",
    "plt.ylabel('Betweeneess')\n",
    "plt.legend(title='Personagens')\n",
    "plt.grid(True)\n",
    "\n",
    "# Exibir gráfico\n",
    "plt.tight_layout()\n",
    "plt.savefig(\"Betweenness_Evolucao_Personagens_Chave2\")\n",
    "plt.show()"
   ]
  },
  {
   "cell_type": "code",
   "execution_count": 217,
   "metadata": {},
   "outputs": [
    {
     "ename": "SyntaxError",
     "evalue": "invalid syntax (940674316.py, line 22)",
     "output_type": "error",
     "traceback": [
      "\u001b[1;36m  Cell \u001b[1;32mIn[217], line 22\u001b[1;36m\u001b[0m\n\u001b[1;33m    var options = {\u001b[0m\n\u001b[1;37m        ^\u001b[0m\n\u001b[1;31mSyntaxError\u001b[0m\u001b[1;31m:\u001b[0m invalid syntax\n"
     ]
    }
   ],
   "source": [
    "# 1. Create a graph from a pandas dataframe\n",
    "\n",
    "# 2. Louvain Algorithm \n",
    "communities_5 = list(nx.algorithms.community.louvain_communities(G_combined))\n",
    "\n",
    "# Convert communities from sets to lists\n",
    "communities_dict = {}\n",
    "for i, community in enumerate(communities_5):\n",
    "    for node in community:\n",
    "        communities_dict[node] = i\n",
    "\n",
    "# 3. Calculate size of each node using Weight\n",
    "node_degree = dict(G_combined.degree)\n",
    "\n",
    "# 4. Set up node attributes\n",
    "nx.set_node_attributes(G_combined, node_degree, 'size') # Size for each node\n",
    "nx.set_node_attributes(G_combined, communities_dict, 'group') # Group the nodes to be communitites\n",
    "\n",
    "# 5. Build Interactive Network using Pyvis\n",
    "net = Network(notebook=True, width=\"1000px\", height=\"1000px\", bgcolor='White', font_color='Black')\n",
    "\n",
    "# Set layout to spring\n",
    "net.barnes_hut(gravity=-1000, central_gravity=0.1, spring_length=50, spring_strength=0.0001)\n",
    "\n",
    "# 6. Display the Network\n",
    "net.from_nx(G_combined)\n",
    "net.show(\"Percy_Grafo3.html\")"
   ]
  },
  {
   "cell_type": "code",
   "execution_count": 332,
   "metadata": {},
   "outputs": [],
   "source": [
    "# 1. Create a graph from a pandas dataframe\n",
    "G_combined1=nx.compose_all([G_1,G_2,G_3,G_4,G_5,G_6,G_7,G_8])\n",
    "# 2. Louvain Algorithm \n",
    "communities_1 = list(nx.algorithms.community.louvain_communities(G_1,seed=42))\n",
    "\n",
    "\n",
    "communities_3 = list(nx.algorithms.community.louvain_communities(nx.compose_all([G_1,G_2,G_3]),seed=42))\n",
    "\n",
    "communities_5 = list(nx.algorithms.community.louvain_communities(nx.compose_all([G_1,G_2,G_3,G_4,G_5]),seed=42))\n",
    "#SERIE 2\n",
    "communities_6 = list(nx.algorithms.community.louvain_communities(nx.compose_all([G_1,G_2,G_3,G_4,G_5,G_6]),seed=42))\n",
    "communities_7 = list(nx.algorithms.community.louvain_communities(nx.compose_all([G_1,G_2,G_3,G_4,G_5,G_6,G_7]),seed=42))\n",
    "communities_8 = list(nx.algorithms.community.louvain_communities(nx.compose_all([G_1,G_2,G_3,G_4,G_5,G_6,G_7,G_8]),seed=42))\n",
    "\n",
    "communities_10 = list(nx.algorithms.community.louvain_communities(nx.compose_all([G_1,G_2,G_3,G_4,G_5,G_6,G_7,G_8,G_9,G_10]),seed=42))\n"
   ]
  },
  {
   "cell_type": "code",
   "execution_count": 417,
   "metadata": {},
   "outputs": [
    {
     "name": "stdout",
     "output_type": "stream",
     "text": [
      "Community 1: 60 people\n",
      "Community 2: 51 people\n"
     ]
    }
   ],
   "source": [
    "# Create a dictionary to store the community index and the number of people in each community\n",
    "community_sizes = {}\n",
    "\n",
    "# Iterate through the communities and count the number of people in each\n",
    "for i, community in enumerate(communities_8):\n",
    "    community_sizes[f\"Community {i + 1}\"] = len(community)\n",
    "\n",
    "# Print the number of people in each community\n",
    "for community, size in community_sizes.items():\n",
    "    print(f\"{community}: {size} people\")"
   ]
  },
  {
   "cell_type": "code",
   "execution_count": 413,
   "metadata": {},
   "outputs": [],
   "source": [
    "community_df_7 = pd.DataFrame(list(community_sizes.items()), columns=[\"Community\", \"Number of People\"])"
   ]
  },
  {
   "cell_type": "code",
   "execution_count": 409,
   "metadata": {},
   "outputs": [
    {
     "data": {
      "text/html": [
       "<div>\n",
       "<style scoped>\n",
       "    .dataframe tbody tr th:only-of-type {\n",
       "        vertical-align: middle;\n",
       "    }\n",
       "\n",
       "    .dataframe tbody tr th {\n",
       "        vertical-align: top;\n",
       "    }\n",
       "\n",
       "    .dataframe thead th {\n",
       "        text-align: right;\n",
       "    }\n",
       "</style>\n",
       "<table border=\"1\" class=\"dataframe\">\n",
       "  <thead>\n",
       "    <tr style=\"text-align: right;\">\n",
       "      <th></th>\n",
       "      <th>Community</th>\n",
       "      <th>Number of People</th>\n",
       "    </tr>\n",
       "  </thead>\n",
       "  <tbody>\n",
       "    <tr>\n",
       "      <th>0</th>\n",
       "      <td>Community 1</td>\n",
       "      <td>31</td>\n",
       "    </tr>\n",
       "    <tr>\n",
       "      <th>1</th>\n",
       "      <td>Community 2</td>\n",
       "      <td>31</td>\n",
       "    </tr>\n",
       "    <tr>\n",
       "      <th>2</th>\n",
       "      <td>Community 3</td>\n",
       "      <td>20</td>\n",
       "    </tr>\n",
       "    <tr>\n",
       "      <th>3</th>\n",
       "      <td>Community 4</td>\n",
       "      <td>24</td>\n",
       "    </tr>\n",
       "  </tbody>\n",
       "</table>\n",
       "</div>"
      ],
      "text/plain": [
       "     Community  Number of People\n",
       "0  Community 1                31\n",
       "1  Community 2                31\n",
       "2  Community 3                20\n",
       "3  Community 4                24"
      ]
     },
     "execution_count": 409,
     "metadata": {},
     "output_type": "execute_result"
    }
   ],
   "source": [
    "community_df"
   ]
  },
  {
   "cell_type": "code",
   "execution_count": 418,
   "metadata": {},
   "outputs": [
    {
     "data": {
      "text/html": [
       "<div>\n",
       "<style scoped>\n",
       "    .dataframe tbody tr th:only-of-type {\n",
       "        vertical-align: middle;\n",
       "    }\n",
       "\n",
       "    .dataframe tbody tr th {\n",
       "        vertical-align: top;\n",
       "    }\n",
       "\n",
       "    .dataframe thead th {\n",
       "        text-align: right;\n",
       "    }\n",
       "</style>\n",
       "<table border=\"1\" class=\"dataframe\">\n",
       "  <thead>\n",
       "    <tr style=\"text-align: right;\">\n",
       "      <th></th>\n",
       "      <th>Community</th>\n",
       "      <th>Number of People</th>\n",
       "    </tr>\n",
       "  </thead>\n",
       "  <tbody>\n",
       "    <tr>\n",
       "      <th>0</th>\n",
       "      <td>Community 1</td>\n",
       "      <td>60</td>\n",
       "    </tr>\n",
       "    <tr>\n",
       "      <th>1</th>\n",
       "      <td>Community 2</td>\n",
       "      <td>51</td>\n",
       "    </tr>\n",
       "  </tbody>\n",
       "</table>\n",
       "</div>"
      ],
      "text/plain": [
       "     Community  Number of People\n",
       "0  Community 1                60\n",
       "1  Community 2                51"
      ]
     },
     "execution_count": 418,
     "metadata": {},
     "output_type": "execute_result"
    }
   ],
   "source": [
    "community_df_8 = pd.DataFrame(list(community_sizes.items()), columns=[\"Community\", \"Number of People\"])\n",
    "community_df_8"
   ]
  },
  {
   "cell_type": "code",
   "execution_count": 416,
   "metadata": {},
   "outputs": [
    {
     "name": "stdout",
     "output_type": "stream",
     "text": [
      "Modularity: 0.19722118055555554\n"
     ]
    }
   ],
   "source": [
    "# Calculate the modularity of the detected communities\n",
    "modularity = nx.community.quality.modularity(nx.compose_all([G_1,G_2,G_3,G_4,G_5,G_6,G_7]), communities_7)\n",
    "\n",
    "# Print the modularity score\n",
    "print(f\"Modularity: {modularity}\")"
   ]
  },
  {
   "cell_type": "code",
   "execution_count": 420,
   "metadata": {},
   "outputs": [
    {
     "name": "stdout",
     "output_type": "stream",
     "text": [
      "Modularity: 0.19169496121990146\n"
     ]
    }
   ],
   "source": [
    "# Calculate the modularity of the detected communities\n",
    "modularity = nx.community.quality.modularity(nx.compose_all([G_1,G_2,G_3,G_4,G_5,G_6,G_7,G_8]), communities_8)\n",
    "\n",
    "# Print the modularity score\n",
    "print(f\"Modularity: {modularity}\")"
   ]
  },
  {
   "cell_type": "markdown",
   "metadata": {},
   "source": [
    "#Evento 1\n",
    "Junção ao acampamento romano\n",
    "Betweenness"
   ]
  },
  {
   "cell_type": "code",
   "execution_count": null,
   "metadata": {},
   "outputs": [],
   "source": []
  },
  {
   "cell_type": "code",
   "execution_count": 377,
   "metadata": {},
   "outputs": [
    {
     "data": {
      "text/plain": [
       "{'Annabeth': 0.09655941985189982,\n",
       " 'Percy': 0.073403286742661,\n",
       " 'Grover': 0.07106253062760073,\n",
       " 'Chiron': 0.055987593210947914,\n",
       " 'Poseidon': 0.04112988689968026,\n",
       " 'Hermes': 0.036209891567916604,\n",
       " 'Zeus': 0.03142455105970725,\n",
       " 'Luke': 0.030524477784049472,\n",
       " 'Kronos': 0.029925380616153456,\n",
       " 'Apollo': 0.02987728905393794,\n",
       " 'Hades': 0.02462911991214572,\n",
       " 'Tyson': 0.023969210194985952,\n",
       " 'Nico': 0.023950101361233298,\n",
       " 'Pan': 0.016928047647539756,\n",
       " 'Thalia': 0.013813812707591216,\n",
       " 'Bianca': 0.012547432763697733,\n",
       " 'Ares': 0.012236821795865122,\n",
       " 'Athena': 0.01157192039469911,\n",
       " 'Demeter': 0.010361506890411524,\n",
       " 'Silena': 0.008367799361087648,\n",
       " 'Rachel': 0.005055936767227899,\n",
       " 'Clarisse': 0.004865126638351549,\n",
       " 'Artemis': 0.0042715195799767035,\n",
       " 'Daedalus': 0.003859465742359938,\n",
       " 'Zoe': 0.0033270300816648658,\n",
       " 'Oracle': 0.003189143057871479,\n",
       " 'Ethan': 0.0026014322101593963,\n",
       " 'Medusa': 0.0021436499347437738,\n",
       " 'Aphrodite': 0.0020706604766154045,\n",
       " 'Calypso': 0.0017836731551901831,\n",
       " 'Hestia': 0.0015821539751821004,\n",
       " 'Atlas': 0.0014163982109272114,\n",
       " 'Leneus': 0.0013601625640124774,\n",
       " 'Hera': 0.0013071809644657308,\n",
       " 'Morpheus': 0.0011528689480149782,\n",
       " 'Cyclopes': 0.0010688219408910484,\n",
       " 'Nemesis': 0.0009959882331983913,\n",
       " 'Furies': 0.0008848798184462519,\n",
       " 'Travis': 0.0008090750223617356,\n",
       " 'Circe': 0.0006311937525429916,\n",
       " 'Cerberus': 0.000625879559445993,\n",
       " 'Kelli': 0.0006051121852232507,\n",
       " 'Minotaur': 0.0005687102977312767,\n",
       " 'Prometheus': 0.000501059607394449,\n",
       " 'Gabe': 0.00047332759973380223,\n",
       " 'Persephone': 0.00046460833402152955,\n",
       " 'Michael': 0.0004634138200571767,\n",
       " 'Sally': 0.00036291861466686645,\n",
       " 'Hyperion': 0.0003201822301607964,\n",
       " 'Medea': 0.0002031185597619164,\n",
       " 'Geryon': 0.00019138893442299017,\n",
       " 'Antaeus': 0.0001852414134017979,\n",
       " 'Castor': 0.00015275128911492548,\n",
       " 'Juniper': 0.00014330698541224857,\n",
       " 'Briares': 0.0001415891800507185,\n",
       " 'Charon': 9.324009324009324e-05,\n",
       " 'Tantalus': 7.661420704898966e-05,\n",
       " 'Ferdinand': 0.0,\n",
       " 'Argus': 0.0,\n",
       " 'Echidna': 0.0,\n",
       " 'Charles': 0.0,\n",
       " 'Ladon': 0.0,\n",
       " 'Lee': 0.0,\n",
       " 'Delphin': 0.0,\n",
       " 'Will': 0.0,\n",
       " 'Alecto': 0.0,\n",
       " 'Katie': 0.0}"
      ]
     },
     "execution_count": 377,
     "metadata": {},
     "output_type": "execute_result"
    }
   ],
   "source": [
    "G_1a6 = nx.compose_all([G_1,G_2,G_3,G_4,G_5,G_5])\n",
    "degree_centrality = nx.degree_centrality(G_1a6)\n",
    "closeness_centrality = nx.closeness_centrality(G_1a6)\n",
    "betweenness_centrality = nx.betweenness_centrality(G_1a6)\n",
    "dict(sorted(betweenness_centrality.items(), key=itemgetter(1), reverse=True))"
   ]
  },
  {
   "cell_type": "code",
   "execution_count": 397,
   "metadata": {},
   "outputs": [
    {
     "data": {
      "text/plain": [
       "{'Annabeth': 0.09655941985189982,\n",
       " 'Percy': 0.073403286742661,\n",
       " 'Grover': 0.07106253062760073,\n",
       " 'Chiron': 0.055987593210947914,\n",
       " 'Poseidon': 0.04112988689968026,\n",
       " 'Hermes': 0.036209891567916604,\n",
       " 'Zeus': 0.03142455105970725,\n",
       " 'Luke': 0.030524477784049472,\n",
       " 'Kronos': 0.029925380616153456,\n",
       " 'Apollo': 0.02987728905393794,\n",
       " 'Hades': 0.02462911991214572,\n",
       " 'Tyson': 0.023969210194985952,\n",
       " 'Nico': 0.023950101361233298,\n",
       " 'Pan': 0.016928047647539756,\n",
       " 'Thalia': 0.013813812707591216,\n",
       " 'Bianca': 0.012547432763697733,\n",
       " 'Ares': 0.012236821795865122,\n",
       " 'Athena': 0.01157192039469911,\n",
       " 'Demeter': 0.010361506890411524,\n",
       " 'Silena': 0.008367799361087648,\n",
       " 'Rachel': 0.005055936767227899,\n",
       " 'Clarisse': 0.004865126638351549,\n",
       " 'Artemis': 0.0042715195799767035,\n",
       " 'Daedalus': 0.003859465742359938,\n",
       " 'Zoe': 0.0033270300816648658,\n",
       " 'Oracle': 0.003189143057871479,\n",
       " 'Ethan': 0.0026014322101593963,\n",
       " 'Medusa': 0.0021436499347437738,\n",
       " 'Aphrodite': 0.0020706604766154045,\n",
       " 'Calypso': 0.0017836731551901831,\n",
       " 'Hestia': 0.0015821539751821004,\n",
       " 'Atlas': 0.0014163982109272114,\n",
       " 'Leneus': 0.0013601625640124774,\n",
       " 'Hera': 0.0013071809644657308,\n",
       " 'Morpheus': 0.0011528689480149782,\n",
       " 'Cyclopes': 0.0010688219408910484,\n",
       " 'Nemesis': 0.0009959882331983913,\n",
       " 'Furies': 0.0008848798184462519,\n",
       " 'Travis': 0.0008090750223617356,\n",
       " 'Circe': 0.0006311937525429916,\n",
       " 'Cerberus': 0.000625879559445993,\n",
       " 'Kelli': 0.0006051121852232507,\n",
       " 'Minotaur': 0.0005687102977312767,\n",
       " 'Prometheus': 0.000501059607394449,\n",
       " 'Gabe': 0.00047332759973380223,\n",
       " 'Persephone': 0.00046460833402152955,\n",
       " 'Michael': 0.0004634138200571767,\n",
       " 'Sally': 0.00036291861466686645,\n",
       " 'Hyperion': 0.0003201822301607964,\n",
       " 'Medea': 0.0002031185597619164,\n",
       " 'Geryon': 0.00019138893442299017,\n",
       " 'Antaeus': 0.0001852414134017979,\n",
       " 'Castor': 0.00015275128911492548,\n",
       " 'Juniper': 0.00014330698541224857,\n",
       " 'Briares': 0.0001415891800507185,\n",
       " 'Charon': 9.324009324009324e-05,\n",
       " 'Tantalus': 7.661420704898966e-05,\n",
       " 'Ferdinand': 0.0,\n",
       " 'Argus': 0.0,\n",
       " 'Echidna': 0.0,\n",
       " 'Charles': 0.0,\n",
       " 'Ladon': 0.0,\n",
       " 'Lee': 0.0,\n",
       " 'Delphin': 0.0,\n",
       " 'Will': 0.0,\n",
       " 'Alecto': 0.0,\n",
       " 'Katie': 0.0}"
      ]
     },
     "execution_count": 397,
     "metadata": {},
     "output_type": "execute_result"
    }
   ],
   "source": [
    "\n",
    "\n",
    "G_1a7 = nx.compose_all([G_1,G_2,G_3,G_4,G_5])\n",
    "degree_centrality = nx.degree_centrality(G_1a7)\n",
    "closeness_centrality = nx.closeness_centrality(G_1a7)\n",
    "betweenness_centrality = nx.betweenness_centrality(G_1a7)\n",
    "dict(sorted(betweenness_centrality.items(), key=itemgetter(1), reverse=True))"
   ]
  },
  {
   "cell_type": "code",
   "execution_count": 396,
   "metadata": {},
   "outputs": [
    {
     "data": {
      "text/plain": [
       "{'Percy': 0.11279813388315113,\n",
       " 'Annabeth': 0.09787430083245006,\n",
       " 'Zeus': 0.06749562760425763,\n",
       " 'Jason': 0.05118274274944908,\n",
       " 'Chiron': 0.03812275611116409,\n",
       " 'Poseidon': 0.03529650306999945,\n",
       " 'Grover': 0.035175789527946776,\n",
       " 'Kronos': 0.033238773738270784,\n",
       " 'Nico': 0.029192521740365296,\n",
       " 'Hermes': 0.026135441604335397,\n",
       " 'Leo': 0.02283122362048725,\n",
       " 'Hazel': 0.020130372821169404,\n",
       " 'Apollo': 0.01999564976134641,\n",
       " 'Aphrodite': 0.01890028816499689,\n",
       " 'Thalia': 0.017494829727819447,\n",
       " 'Athena': 0.017229134304750687,\n",
       " 'Tyson': 0.015966023808827612,\n",
       " 'Hades': 0.015669868193656015,\n",
       " 'Gaea': 0.01419299709311855,\n",
       " 'Luke': 0.013805111665753092,\n",
       " 'Demeter': 0.013063893346362997,\n",
       " 'Frank': 0.012765851633818555,\n",
       " 'Hera': 0.011104715847316173,\n",
       " 'Pan': 0.010003839686446117,\n",
       " 'Ares': 0.009738404181067197,\n",
       " 'Cyclopes': 0.009139044228677786,\n",
       " 'Titans': 0.009019318435079185,\n",
       " 'Mars': 0.008489716844205322,\n",
       " 'Jupiter': 0.007301982599086212,\n",
       " 'Piper': 0.006359991789922528,\n",
       " 'Rachel': 0.006137054551938446,\n",
       " 'Bianca': 0.005131742161688382,\n",
       " 'Medusa': 0.0048914740857439075,\n",
       " 'Silena': 0.00398343735170497,\n",
       " 'Iris': 0.0035597550162043087,\n",
       " 'Artemis': 0.003397704542921429,\n",
       " 'Reyna': 0.0032699773865546454,\n",
       " 'Juno': 0.0028610476158573883,\n",
       " 'Clarisse': 0.0026576625809513893,\n",
       " 'Neptune': 0.002647363517649568,\n",
       " 'Nemesis': 0.0019020240630760407,\n",
       " 'Octavian': 0.001864156481815973,\n",
       " 'Khione': 0.0018518028144542988,\n",
       " 'Aeolus': 0.0017302861846832534,\n",
       " 'Daedalus': 0.0015705165414200324,\n",
       " 'Travis': 0.0014250594995926361,\n",
       " 'Medea': 0.0013958736179997355,\n",
       " 'Zoe': 0.0013661375650924831,\n",
       " 'Lupa': 0.0013340208919044535,\n",
       " 'Oracle': 0.0013035864937991526,\n",
       " 'Cerberus': 0.0009911240986144021,\n",
       " 'Ethan': 0.000938462555616694,\n",
       " 'Atlas': 0.0007955660583916742,\n",
       " 'Circe': 0.0007324176910032627,\n",
       " 'Hestia': 0.0007042623894774085,\n",
       " 'Bacchus': 0.0006990027164444595,\n",
       " 'Midas': 0.0006295784276678256,\n",
       " 'Leneus': 0.00051222845250858,\n",
       " 'Fates': 0.0004404463574011155,\n",
       " 'Morpheus': 0.0003595045445092606,\n",
       " 'Calypso': 0.0003565874599468472,\n",
       " 'Furies': 0.000352280714147578,\n",
       " 'Hercules': 0.0003479896128729527,\n",
       " 'Michael': 0.00032876524084297394,\n",
       " 'Giants': 0.0003002204432043997,\n",
       " 'Hylla': 0.00028943824408963895,\n",
       " 'Persephone': 0.00024197505293911288,\n",
       " 'Euryale': 0.00024091793987240348,\n",
       " 'Alcyoneus': 0.00023211350278103622,\n",
       " 'Kelli': 0.0002305530629133632,\n",
       " 'Prometheus': 0.00019711334589329226,\n",
       " 'Minotaur': 0.0001966346865707429,\n",
       " 'Gabe': 0.00019319539841027044,\n",
       " 'Pluto': 0.00016479887400698738,\n",
       " 'Sally': 0.00014297499687623643,\n",
       " 'Minerva': 0.00013667542059529782,\n",
       " 'Hyperion': 0.00012949667815564833,\n",
       " 'Stheno': 0.00010448521916411825,\n",
       " 'Clovis': 8.340283569641368e-05,\n",
       " 'Antaeus': 6.408781265021113e-05,\n",
       " 'Juniper': 5.127497643190545e-05,\n",
       " 'Castor': 4.7582387031928315e-05,\n",
       " 'Geryon': 4.0776381135633935e-05,\n",
       " 'Venus': 4.0076131819251085e-05,\n",
       " 'Saturn': 3.640648924422115e-05,\n",
       " 'Charon': 3.0135875483188724e-05,\n",
       " 'Vesta': 2.7514511250958287e-05,\n",
       " 'Miranda': 2.5450130010302707e-05,\n",
       " 'Argus': 2.4622947813952848e-05,\n",
       " 'Briares': 2.3635120364278725e-05,\n",
       " 'Mercury': 2.3167454360114908e-05,\n",
       " 'Tantalus': 1.6928789864569683e-05,\n",
       " 'Rhea': 1.572948217081486e-05,\n",
       " 'Phorcys': 1.1914690813773383e-05,\n",
       " 'Phineas': 7.582075972401244e-06,\n",
       " 'Ferdinand': 0.0,\n",
       " 'Echidna': 0.0,\n",
       " 'Charles': 0.0,\n",
       " 'Ladon': 0.0,\n",
       " 'Lee': 0.0,\n",
       " 'Delphin': 0.0,\n",
       " 'Will': 0.0,\n",
       " 'Alecto': 0.0,\n",
       " 'Katie': 0.0,\n",
       " 'Phoebe': 0.0,\n",
       " 'Typhon': 0.0,\n",
       " 'Bob': 0.0,\n",
       " 'Asteria': 0.0,\n",
       " 'Janus': 0.0,\n",
       " 'Otis': 0.0,\n",
       " 'Ceres': 0.0}"
      ]
     },
     "execution_count": 396,
     "metadata": {},
     "output_type": "execute_result"
    }
   ],
   "source": [
    "G_1a8 = nx.compose_all([G_1,G_2,G_3,G_4,G_5,G_6,G_7,G_8])\n",
    "degree_centrality = nx.degree_centrality(G_1a8)\n",
    "closeness_centrality = nx.closeness_centrality(G_1a8)\n",
    "betweenness_centrality = nx.betweenness_centrality(G_1a8)\n",
    "dict(sorted(betweenness_centrality.items(), key=itemgetter(1), reverse=True))"
   ]
  },
  {
   "cell_type": "markdown",
   "metadata": {},
   "source": [
    "Closeness ANALISE\n"
   ]
  },
  {
   "cell_type": "code",
   "execution_count": 401,
   "metadata": {},
   "outputs": [
    {
     "data": {
      "text/plain": [
       "{'Annabeth': 0.1367583184074583,\n",
       " 'Grover': 0.11754673114740166,\n",
       " 'Zeus': 0.06731487683391471,\n",
       " 'Chiron': 0.062210486939984,\n",
       " 'Percy': 0.05534515485143762,\n",
       " 'Thalia': 0.04013102406808573,\n",
       " 'Poseidon': 0.03823990381712156,\n",
       " 'Hermes': 0.028936373810935476,\n",
       " 'Ares': 0.025105343170299416,\n",
       " 'Hades': 0.016641204101418453,\n",
       " 'Tyson': 0.013700484319718854,\n",
       " 'Demeter': 0.011264584574533552,\n",
       " 'Artemis': 0.010998283934070091,\n",
       " 'Bianca': 0.010450076338175,\n",
       " 'Athena': 0.009809198872192488,\n",
       " 'Luke': 0.009732598237605503,\n",
       " 'Apollo': 0.009106399747886604,\n",
       " 'Kronos': 0.008889901990497493,\n",
       " 'Zoe': 0.008329867111241502,\n",
       " 'Pan': 0.007109192883502606,\n",
       " 'Clarisse': 0.006873105099632551,\n",
       " 'Aphrodite': 0.004523141429515822,\n",
       " 'Medea': 0.0027879622267377373,\n",
       " 'Oracle': 0.002473927378757732,\n",
       " 'Furies': 0.002262726880073819,\n",
       " 'Tantalus': 0.00196777223999297,\n",
       " 'Nico': 0.0016179633925416446,\n",
       " 'Silena': 0.001524511162609823,\n",
       " 'Gabe': 0.0014663230660813902,\n",
       " 'Cyclopes': 0.0013634301261852282,\n",
       " 'Cerberus': 0.0013002209430780858,\n",
       " 'Persephone': 0.0011821570813917751,\n",
       " 'Circe': 0.0010645604395604395,\n",
       " 'Medusa': 0.0009079968662485878,\n",
       " 'Hera': 0.0008510424926991553,\n",
       " 'Travis': 0.0006228142506337995,\n",
       " 'Sally': 0.0005047531833246118,\n",
       " 'Minotaur': 0.00045712271477577597,\n",
       " 'Atlas': 0.00019203587867895695,\n",
       " 'Hestia': 0.00014490304668876095,\n",
       " 'Charles': 0.0001240079365079365,\n",
       " 'Charon': 0.00010629251700680272,\n",
       " 'Prometheus': 0.0,\n",
       " 'Ferdinand': 0.0,\n",
       " 'Argus': 0.0,\n",
       " 'Nemesis': 0.0,\n",
       " 'Echidna': 0.0,\n",
       " 'Calypso': 0.0,\n",
       " 'Ladon': 0.0,\n",
       " 'Rachel': 0.0}"
      ]
     },
     "execution_count": 401,
     "metadata": {},
     "output_type": "execute_result"
    }
   ],
   "source": [
    "G_1a5 = nx.compose_all([G_1,G_2,G_3])\n",
    "degree_centrality = nx.degree_centrality(G_1a5)\n",
    "closeness_centrality = nx.closeness_centrality(G_1a5)\n",
    "betweenness_centrality = nx.betweenness_centrality(G_1a5)\n",
    "dict(sorted(betweenness_centrality.items(), key=itemgetter(1), reverse=True))"
   ]
  },
  {
   "cell_type": "code",
   "execution_count": 402,
   "metadata": {},
   "outputs": [
    {
     "data": {
      "text/plain": [
       "{'Annabeth': 0.11343665164883086,\n",
       " 'Grover': 0.09329089333856609,\n",
       " 'Chiron': 0.07654138498736285,\n",
       " 'Luke': 0.06014028104887107,\n",
       " 'Percy': 0.0544210359178612,\n",
       " 'Zeus': 0.04419219440262889,\n",
       " 'Poseidon': 0.036929097536092345,\n",
       " 'Kronos': 0.02795706016641894,\n",
       " 'Tyson': 0.026599215323109437,\n",
       " 'Pan': 0.02265287508440943,\n",
       " 'Hermes': 0.020220134926673204,\n",
       " 'Athena': 0.018603000583965586,\n",
       " 'Hades': 0.01639819575735512,\n",
       " 'Ares': 0.014716220497691872,\n",
       " 'Apollo': 0.013467528520934096,\n",
       " 'Thalia': 0.012211442328328511,\n",
       " 'Nico': 0.010762751154733102,\n",
       " 'Artemis': 0.010756894374528312,\n",
       " 'Daedalus': 0.008845863530218361,\n",
       " 'Bianca': 0.0065453579817068295,\n",
       " 'Clarisse': 0.005890169923727145,\n",
       " 'Demeter': 0.0057790331045565356,\n",
       " 'Hera': 0.004820807042890792,\n",
       " 'Zoe': 0.004466697366484846,\n",
       " 'Rachel': 0.0034540122463851274,\n",
       " 'Aphrodite': 0.003283629414644265,\n",
       " 'Oracle': 0.0022242952882612853,\n",
       " 'Calypso': 0.0021109714450481625,\n",
       " 'Furies': 0.001994825638893436,\n",
       " 'Atlas': 0.0015311560940463708,\n",
       " 'Nemesis': 0.001399605416554569,\n",
       " 'Medusa': 0.0013290695494085323,\n",
       " 'Kelli': 0.0012676400811994033,\n",
       " 'Cyclopes': 0.0009193259567137933,\n",
       " 'Gabe': 0.0008524918270680982,\n",
       " 'Silena': 0.0008463446574114572,\n",
       " 'Circe': 0.0007467899332306114,\n",
       " 'Cerberus': 0.0006810233081419522,\n",
       " 'Persephone': 0.0005479085563831327,\n",
       " 'Tantalus': 0.0005469863386901745,\n",
       " 'Sally': 0.00045504714996240413,\n",
       " 'Ethan': 0.0004538830598152632,\n",
       " 'Antaeus': 0.0004525378889785669,\n",
       " 'Morpheus': 0.0004116222760290557,\n",
       " 'Geryon': 0.00032403763368763107,\n",
       " 'Castor': 0.00032015065913370996,\n",
       " 'Medea': 0.00024977376672291927,\n",
       " 'Travis': 0.00023564947293760853,\n",
       " 'Minotaur': 0.0001947769744379914,\n",
       " 'Charon': 9.630200308166412e-05,\n",
       " 'Hestia': 9.367907672992421e-05,\n",
       " 'Briares': 5.484158026530908e-05,\n",
       " 'Prometheus': 0.0,\n",
       " 'Ferdinand': 0.0,\n",
       " 'Argus': 0.0,\n",
       " 'Echidna': 0.0,\n",
       " 'Charles': 0.0,\n",
       " 'Ladon': 0.0,\n",
       " 'Juniper': 0.0,\n",
       " 'Hyperion': 0.0,\n",
       " 'Lee': 0.0}"
      ]
     },
     "execution_count": 402,
     "metadata": {},
     "output_type": "execute_result"
    }
   ],
   "source": [
    "G_1a5 = nx.compose_all([G_1,G_2,G_3,G_4])\n",
    "degree_centrality = nx.degree_centrality(G_1a5)\n",
    "closeness_centrality = nx.closeness_centrality(G_1a5)\n",
    "betweenness_centrality = nx.betweenness_centrality(G_1a5)\n",
    "dict(sorted(betweenness_centrality.items(), key=itemgetter(1), reverse=True))"
   ]
  }
 ],
 "metadata": {
  "kernelspec": {
   "display_name": "Python 3",
   "language": "python",
   "name": "python3"
  },
  "language_info": {
   "codemirror_mode": {
    "name": "ipython",
    "version": 3
   },
   "file_extension": ".py",
   "mimetype": "text/x-python",
   "name": "python",
   "nbconvert_exporter": "python",
   "pygments_lexer": "ipython3",
   "version": "3.9.13"
  }
 },
 "nbformat": 4,
 "nbformat_minor": 2
}
